{
 "cells": [
  {
   "cell_type": "markdown",
   "metadata": {},
   "source": [
    "**DISCLAIMER:** For viewing purposes only; this notebook will not run without SFUSD data in '../data/'."
   ]
  },
  {
   "cell_type": "markdown",
   "metadata": {
    "jp-MarkdownHeadingCollapsed": true,
    "tags": []
   },
   "source": [
    "# Packages and plot settings"
   ]
  },
  {
   "cell_type": "code",
   "execution_count": 1,
   "metadata": {},
   "outputs": [],
   "source": [
    "import numpy as np\n",
    "import pandas as pd\n",
    "import stratified_pytorch as sp\n",
    "import data_processing as dp\n",
    "import torch as t\n",
    "import torch.nn.functional as F\n",
    "import random\n",
    "import time\n",
    "from tqdm import tqdm\n",
    "tqdm.pandas()\n",
    "\n",
    "from scipy.special import softmax\n",
    "from scipy.stats import weightedtau, entropy\n",
    "from joblib import Parallel, delayed\n",
    "\n",
    "import ast\n",
    "import copy\n",
    "import importlib\n",
    "import itertools\n",
    "import os\n",
    "import re\n",
    "import sys\n",
    "from glob import glob"
   ]
  },
  {
   "cell_type": "code",
   "execution_count": 2,
   "metadata": {},
   "outputs": [],
   "source": [
    "import matplotlib.pyplot as plt\n",
    "from matplotlib.lines import Line2D\n",
    "import seaborn as sns\n",
    "sns.set_theme(style='whitegrid', rc={'grid.alpha': 0.25, 'text.usetex': False})\n",
    "palette = sns.color_palette('Greys', n_colors=1) + sns.color_palette(n_colors=4)"
   ]
  },
  {
   "cell_type": "markdown",
   "metadata": {
    "jp-MarkdownHeadingCollapsed": true,
    "tags": []
   },
   "source": [
    "# Define macros"
   ]
  },
  {
   "cell_type": "code",
   "execution_count": 3,
   "metadata": {},
   "outputs": [],
   "source": [
    "# Years for train & test\n",
    "TRAIN_YEAR = '1718'\n",
    "TEST_YEAR = '1819'\n",
    "\n",
    "# Where Avg Color Index and greatschools data lives:\n",
    "TRAIN_SCHOOL_ATTS_PATH = '../data/schools_rehauled_1718.csv'\n",
    "TEST_SCHOOL_ATTS_PATH = '../data/schools_rehauled_1819.csv'\n",
    "\n",
    "# Where bus route and PTA data lives:\n",
    "DETAILED_SCHOOL_ATTS_PATH = '../data/SFUSD School Characteristics - School Data.csv'\n",
    "\n",
    "# Where program data lives:\n",
    "TRAIN_PROGRAM_ATTS_PATH = '../data/programs_1718.csv'\n",
    "TEST_PROGRAM_ATTS_PATH = '../data/programs_1819.csv'\n",
    "\n",
    "# Students x schools individual travel (driving?) times\n",
    "DISTANCES_PATH = '../data/distances.csv' # (n_students, n_schools)\n",
    "WALK_TIMES_TO_BG_PATH = '../data/bg_to_school_walk_time.csv' # (n_students, n_schools)\n",
    "\n",
    "# Relevant choice data\n",
    "STUDENT_DATA_TRAIN = '../data/student_1718.csv'\n",
    "STUDENT_DATA_TEST = '../data/student_1819.csv'"
   ]
  },
  {
   "cell_type": "markdown",
   "metadata": {
    "jp-MarkdownHeadingCollapsed": true,
    "tags": []
   },
   "source": [
    "# Load school attributes"
   ]
  },
  {
   "cell_type": "markdown",
   "metadata": {},
   "source": [
    "PTA fund, bus-route, before- and after-school program data:"
   ]
  },
  {
   "cell_type": "code",
   "execution_count": 4,
   "metadata": {},
   "outputs": [],
   "source": [
    "detailed_school_attributes = pd.read_csv(DETAILED_SCHOOL_ATTS_PATH, index_col=\"School Code\")"
   ]
  },
  {
   "cell_type": "code",
   "execution_count": 5,
   "metadata": {},
   "outputs": [],
   "source": [
    "detailed_school_attributes['PTA_Funds_Per_Pupil'] = [float(re.sub(r'[^\\d.]', '', amount)) for amount in detailed_school_attributes['Annual PTA funds per pupil']]\n",
    "detailed_school_attributes['School bus from'] = detailed_school_attributes['School bus from'].fillna('[]')\n",
    "detailed_school_attributes['School bus from K'] = detailed_school_attributes['School bus from']"
   ]
  },
  {
   "cell_type": "code",
   "execution_count": 6,
   "metadata": {},
   "outputs": [],
   "source": [
    "# Manual fixes and entries\n",
    "detailed_school_attributes.loc[796, 'School bus from K'] = '94110, 94124, 94134'\n",
    "detailed_school_attributes.loc[479, 'School bus from K'] = '94102, 94115, 94124'\n",
    "detailed_school_attributes.loc[876, 'Has Before School Programs'] = 'No'\n",
    "detailed_school_attributes.loc[876, 'Has After School Programs'] = 'Yes'"
   ]
  },
  {
   "cell_type": "code",
   "execution_count": 7,
   "metadata": {},
   "outputs": [],
   "source": [
    "detailed_school_attributes['School bus from K'] = detailed_school_attributes['School bus from K'].apply(lambda x: ast.literal_eval(x))"
   ]
  },
  {
   "cell_type": "markdown",
   "metadata": {},
   "source": [
    "Average color data:"
   ]
  },
  {
   "cell_type": "code",
   "execution_count": 8,
   "metadata": {},
   "outputs": [],
   "source": [
    "school_attributes_train = pd.read_csv(TRAIN_SCHOOL_ATTS_PATH, index_col='school_id')"
   ]
  },
  {
   "cell_type": "raw",
   "metadata": {},
   "source": [
    "# Manual entries\n",
    "# from California Assessment of Student Performance and Progress for 1718 sy\n",
    "# https://caaspp-elpac.cde.ca.gov/caaspp/ViewReport?ps=true&lstTestYear=2019&lstTestType=B&lstGroup=1&lstGrade=13&lstSchoolType=A&lstCounty=38&lstDistrict=68478&lstSchool=6104673\n",
    "school_attributes_train.loc[476, 'math_scores_1819'] = np.mean([2337.8, 2393.9, 2397.7])\n",
    "school_attributes_train.loc[476, 'eng_scores_1819'] = np.mean([2337.8, 2393.9, 2397.7])\n",
    "school_attributes_train.loc[507, 'math_scores_1819'] = np.mean([2346.1, 2408.2, 2407.7])\n",
    "school_attributes_train.loc[507, 'eng_scores_1819'] = np.mean([2332.8, 2411.4, 2392.1])\n",
    "school_attributes_train.loc[537, 'math_scores_1819'] = np.mean([2362.8, 2401.8, 2453.5])\n",
    "school_attributes_train.loc[537, 'eng_scores_1819'] = np.mean([2369.1, 2413.7, 2468.5])"
   ]
  },
  {
   "cell_type": "code",
   "execution_count": 9,
   "metadata": {
    "scrolled": true
   },
   "outputs": [],
   "source": [
    "for column in ['ela_color', 'math_color', 'chronic_color', 'suspension_color']:\n",
    "    school_attributes_train[column].replace(['Red', 'Orange', 'Yellow', 'Green', 'Blue'], [1.,2.,3.,4.,5.], inplace=True)\n",
    "school_attributes_train['AvgColorIndex'] = school_attributes_train[['ela_color', 'math_color', 'chronic_color', 'suspension_color']].mean(numeric_only=True, axis=1)\n",
    "school_attributes_train['% FRL 2019-2022'] = detailed_school_attributes.loc[school_attributes_train.index,'% FRL']\n",
    "school_attributes_train['PTA funds per pupil'] = detailed_school_attributes.loc[school_attributes_train.index,'PTA_Funds_Per_Pupil']\n",
    "school_attributes_train['has_before_school_progs'] = detailed_school_attributes.loc[school_attributes_train.index,'Has Before School Programs'].map({'Yes':1, 'No':0})\n",
    "school_attributes_train['has_after_school_progs'] = detailed_school_attributes.loc[school_attributes_train.index,'Has After School Programs'].map({'Yes':1, 'No':0})"
   ]
  },
  {
   "cell_type": "markdown",
   "metadata": {},
   "source": [
    "Program specific data:"
   ]
  },
  {
   "cell_type": "code",
   "execution_count": 10,
   "metadata": {
    "tags": []
   },
   "outputs": [],
   "source": [
    "prog_to_nest = {'GE': 'General Education', 'MM': 'Special Education','MS': 'Special Education',\n",
    "                'SA': 'Special Education', 'AF': 'Special Education', 'ED': 'Special Education', \n",
    "                'DA': 'Special Education', 'DT': 'Special Education', 'SN': 'Spanish Language',\n",
    "                'SE': 'Spanish Language', 'NS': 'Spanish Language', 'SB': 'Spanish Language',\n",
    "                'CE': 'Chinese Language', 'CN': 'Chinese Language', 'ME': 'Chinese Language',\n",
    "                'MN': 'Chinese Language', 'CT': 'Chinese Language', 'NC': 'Chinese Language',\n",
    "                'CB': 'Chinese Language', 'JN': 'Japanese Language', 'JB': 'Japanese Language',\n",
    "                'JE': 'Japanese Language', 'KE': 'Korean Language', 'KN': 'Korean Language',\n",
    "                'FB': 'Filipino Language'}"
   ]
  },
  {
   "cell_type": "code",
   "execution_count": 11,
   "metadata": {},
   "outputs": [],
   "source": [
    "program_attributes_train = pd.read_csv(TRAIN_PROGRAM_ATTS_PATH, index_col='program_id')\n",
    "program_attributes_train['school_id'] = program_attributes_train.school_id.astype(int)\n",
    "program_attributes_train['nest_membership'] = [prog_to_nest[program_type] for program_type in program_attributes_train['program_type']]\n",
    "program_attributes_train['AvgColorIndex'] = [school_attributes_train.loc[school,'AvgColorIndex'] for school in program_attributes_train.school_id]\n",
    "program_attributes_train['portion_FRL'] = [school_attributes_train.loc[school,'% FRL 2019-2022']/100. for school in program_attributes_train.school_id]\n",
    "program_attributes_train['has_before_school_progs'] = [school_attributes_train.loc[school,'has_before_school_progs'] for school in program_attributes_train.school_id]\n",
    "program_attributes_train['has_after_school_progs'] = [school_attributes_train.loc[school,'has_after_school_progs'] for school in program_attributes_train.school_id]"
   ]
  },
  {
   "cell_type": "code",
   "execution_count": 12,
   "metadata": {},
   "outputs": [
    {
     "data": {
      "text/html": [
       "<div>\n",
       "<style scoped>\n",
       "    .dataframe tbody tr th:only-of-type {\n",
       "        vertical-align: middle;\n",
       "    }\n",
       "\n",
       "    .dataframe tbody tr th {\n",
       "        vertical-align: top;\n",
       "    }\n",
       "\n",
       "    .dataframe thead th {\n",
       "        text-align: right;\n",
       "    }\n",
       "</style>\n",
       "<table border=\"1\" class=\"dataframe\">\n",
       "  <thead>\n",
       "    <tr style=\"text-align: right;\">\n",
       "      <th></th>\n",
       "      <th>Unnamed: 0</th>\n",
       "      <th>school_id</th>\n",
       "      <th>program_type</th>\n",
       "      <th>capacity</th>\n",
       "      <th>r2_capacity</th>\n",
       "      <th>r3_capacity</th>\n",
       "      <th>r1_assigned</th>\n",
       "      <th>r1_noenroll</th>\n",
       "      <th>r1_first_choice</th>\n",
       "      <th>nest_membership</th>\n",
       "      <th>AvgColorIndex</th>\n",
       "      <th>portion_FRL</th>\n",
       "      <th>has_before_school_progs</th>\n",
       "      <th>has_after_school_progs</th>\n",
       "      <th>nest_id</th>\n",
       "    </tr>\n",
       "    <tr>\n",
       "      <th>program_id</th>\n",
       "      <th></th>\n",
       "      <th></th>\n",
       "      <th></th>\n",
       "      <th></th>\n",
       "      <th></th>\n",
       "      <th></th>\n",
       "      <th></th>\n",
       "      <th></th>\n",
       "      <th></th>\n",
       "      <th></th>\n",
       "      <th></th>\n",
       "      <th></th>\n",
       "      <th></th>\n",
       "      <th></th>\n",
       "      <th></th>\n",
       "    </tr>\n",
       "  </thead>\n",
       "  <tbody>\n",
       "    <tr>\n",
       "      <th>413-GE-KG</th>\n",
       "      <td>0</td>\n",
       "      <td>413</td>\n",
       "      <td>GE</td>\n",
       "      <td>88</td>\n",
       "      <td>92</td>\n",
       "      <td>88</td>\n",
       "      <td>88.0</td>\n",
       "      <td>18.0</td>\n",
       "      <td>89.0</td>\n",
       "      <td>General Education</td>\n",
       "      <td>3.5</td>\n",
       "      <td>0.367206</td>\n",
       "      <td>0</td>\n",
       "      <td>1</td>\n",
       "      <td>2</td>\n",
       "    </tr>\n",
       "    <tr>\n",
       "      <th>413-SA-KG</th>\n",
       "      <td>1</td>\n",
       "      <td>413</td>\n",
       "      <td>SA</td>\n",
       "      <td>2</td>\n",
       "      <td>2</td>\n",
       "      <td>2</td>\n",
       "      <td>1.0</td>\n",
       "      <td>0.0</td>\n",
       "      <td>1.0</td>\n",
       "      <td>Special Education</td>\n",
       "      <td>3.5</td>\n",
       "      <td>0.367206</td>\n",
       "      <td>0</td>\n",
       "      <td>1</td>\n",
       "      <td>6</td>\n",
       "    </tr>\n",
       "    <tr>\n",
       "      <th>420-GE-KG</th>\n",
       "      <td>2</td>\n",
       "      <td>420</td>\n",
       "      <td>GE</td>\n",
       "      <td>44</td>\n",
       "      <td>44</td>\n",
       "      <td>42</td>\n",
       "      <td>44.0</td>\n",
       "      <td>16.0</td>\n",
       "      <td>44.0</td>\n",
       "      <td>General Education</td>\n",
       "      <td>3.5</td>\n",
       "      <td>0.295983</td>\n",
       "      <td>1</td>\n",
       "      <td>1</td>\n",
       "      <td>2</td>\n",
       "    </tr>\n",
       "    <tr>\n",
       "      <th>420-MS-KG</th>\n",
       "      <td>3</td>\n",
       "      <td>420</td>\n",
       "      <td>MS</td>\n",
       "      <td>4</td>\n",
       "      <td>4</td>\n",
       "      <td>4</td>\n",
       "      <td>3.0</td>\n",
       "      <td>0.0</td>\n",
       "      <td>3.0</td>\n",
       "      <td>Special Education</td>\n",
       "      <td>3.5</td>\n",
       "      <td>0.295983</td>\n",
       "      <td>1</td>\n",
       "      <td>1</td>\n",
       "      <td>6</td>\n",
       "    </tr>\n",
       "    <tr>\n",
       "      <th>420-SE-KG</th>\n",
       "      <td>4</td>\n",
       "      <td>420</td>\n",
       "      <td>SE</td>\n",
       "      <td>18</td>\n",
       "      <td>18</td>\n",
       "      <td>18</td>\n",
       "      <td>18.0</td>\n",
       "      <td>3.0</td>\n",
       "      <td>69.0</td>\n",
       "      <td>Spanish Language</td>\n",
       "      <td>3.5</td>\n",
       "      <td>0.295983</td>\n",
       "      <td>1</td>\n",
       "      <td>1</td>\n",
       "      <td>5</td>\n",
       "    </tr>\n",
       "  </tbody>\n",
       "</table>\n",
       "</div>"
      ],
      "text/plain": [
       "            Unnamed: 0  school_id program_type  capacity  r2_capacity  \\\n",
       "program_id                                                              \n",
       "413-GE-KG            0        413           GE        88           92   \n",
       "413-SA-KG            1        413           SA         2            2   \n",
       "420-GE-KG            2        420           GE        44           44   \n",
       "420-MS-KG            3        420           MS         4            4   \n",
       "420-SE-KG            4        420           SE        18           18   \n",
       "\n",
       "            r3_capacity  r1_assigned  r1_noenroll  r1_first_choice  \\\n",
       "program_id                                                           \n",
       "413-GE-KG            88         88.0         18.0             89.0   \n",
       "413-SA-KG             2          1.0          0.0              1.0   \n",
       "420-GE-KG            42         44.0         16.0             44.0   \n",
       "420-MS-KG             4          3.0          0.0              3.0   \n",
       "420-SE-KG            18         18.0          3.0             69.0   \n",
       "\n",
       "              nest_membership  AvgColorIndex  portion_FRL  \\\n",
       "program_id                                                  \n",
       "413-GE-KG   General Education            3.5     0.367206   \n",
       "413-SA-KG   Special Education            3.5     0.367206   \n",
       "420-GE-KG   General Education            3.5     0.295983   \n",
       "420-MS-KG   Special Education            3.5     0.295983   \n",
       "420-SE-KG    Spanish Language            3.5     0.295983   \n",
       "\n",
       "            has_before_school_progs  has_after_school_progs  nest_id  \n",
       "program_id                                                            \n",
       "413-GE-KG                         0                       1        2  \n",
       "413-SA-KG                         0                       1        6  \n",
       "420-GE-KG                         1                       1        2  \n",
       "420-MS-KG                         1                       1        6  \n",
       "420-SE-KG                         1                       1        5  "
      ]
     },
     "execution_count": 12,
     "metadata": {},
     "output_type": "execute_result"
    }
   ],
   "source": [
    "cat=pd.Categorical(program_attributes_train['nest_membership'])\n",
    "nests = list(cat.categories)\n",
    "program_attributes_train['nest_id'] = cat.codes\n",
    "program_attributes_train.head()"
   ]
  },
  {
   "cell_type": "markdown",
   "metadata": {
    "jp-MarkdownHeadingCollapsed": true,
    "tags": []
   },
   "source": [
    "# Load travel data"
   ]
  },
  {
   "cell_type": "markdown",
   "metadata": {},
   "source": [
    "Student-school sqrt. distances (miles):"
   ]
  },
  {
   "cell_type": "code",
   "execution_count": 13,
   "metadata": {},
   "outputs": [],
   "source": [
    "distances = pd.read_csv(DISTANCES_PATH,index_col=0)\n",
    "distances.columns = distances.columns.astype(int)\n",
    "sqrt_distances = np.sqrt(distances)\n",
    "program_sqrt_distances = sqrt_distances.loc[distances.index, program_attributes_train.school_id]\n",
    "program_sqrt_distances.columns = program_attributes_train.index"
   ]
  },
  {
   "cell_type": "markdown",
   "metadata": {},
   "source": [
    "Block-school walk time (minutes):"
   ]
  },
  {
   "cell_type": "code",
   "execution_count": 14,
   "metadata": {},
   "outputs": [],
   "source": [
    "bg_to_school_walktime = pd.read_csv(WALK_TIMES_TO_BG_PATH, index_col='origin_bg')\n",
    "bg_to_school_walktime.columns = bg_to_school_walktime.columns.astype(int)"
   ]
  },
  {
   "cell_type": "markdown",
   "metadata": {},
   "source": [
    "Helper dict for language-related covariate later:"
   ]
  },
  {
   "cell_type": "code",
   "execution_count": 15,
   "metadata": {},
   "outputs": [],
   "source": [
    "lang_to_program = {'CC-Chinese Cantonese': ['CB','CE','CN','CT', 'NC'],\n",
    "                   'SP-Spanish': ['SB','SE','SN','NS'],\n",
    "                   'CM-Chinese Mandarin': ['ME','MN'],\n",
    "                   'JA-Japanese': ['JE','JN'],\n",
    "                   'KO-Korean': ['KE','KN'],\n",
    "                   'FT-Filipino Tagalog': ['FB'],\n",
    "                   'FI-Filipino Ilocano': ['FB']}"
   ]
  },
  {
   "cell_type": "code",
   "execution_count": 16,
   "metadata": {},
   "outputs": [],
   "source": [
    "program_to_language = {item: k for k, v in lang_to_program.items() for item in v}"
   ]
  },
  {
   "cell_type": "markdown",
   "metadata": {
    "jp-MarkdownHeadingCollapsed": true,
    "tags": []
   },
   "source": [
    "# Load preference data"
   ]
  },
  {
   "cell_type": "markdown",
   "metadata": {},
   "source": [
    "Mapping reported ethnicity to EdData racial categories: \n",
    "https://www.ed-data.org/article/Ethnic-Diversity-Index#:~:text=Diversity%20Index%20calculated%3F-,What%20is%20the%20Ethnic%20Diversity%20Index%3F,groups%20in%20its%20student%20population."
   ]
  },
  {
   "cell_type": "code",
   "execution_count": 17,
   "metadata": {},
   "outputs": [],
   "source": [
    "def aggregate_ethnicities(row):\n",
    "    if row['resolved_ethnicity'] in ['Decline to State']:\n",
    "        return 'Decline to State'\n",
    "    elif row['resolved_ethnicity'] in ['Black or African American']:\n",
    "        return 'Black or African American'\n",
    "    elif row['resolved_ethnicity'] in ['American Indian or Alaskan Native']:\n",
    "        return 'American Indian or Alaskan Native'\n",
    "    elif row['resolved_ethnicity'] in ['Asian', 'Asian Indian', 'Chinese', 'Korean', 'Vietnamese', 'Cambodian', 'Japanese', 'Other Asian']:\n",
    "        return 'Asian'\n",
    "    elif row['resolved_ethnicity'] in ['Hispanic/Latino']:\n",
    "        return 'Hispanic/Latino'\n",
    "    elif row['resolved_ethnicity'] in ['Filipino']:\n",
    "        return 'Filipino'\n",
    "    elif row['resolved_ethnicity'] in ['Pacific Islander', 'Other Pacific Islander', 'Samoan']:\n",
    "        return 'Pacific Islander'\n",
    "    elif row['resolved_ethnicity'] in ['White', 'Middle Eastern/Arabic']:\n",
    "        return 'White'\n",
    "    elif row['resolved_ethnicity'] in ['Two or More Races']:\n",
    "        return 'Two or More Races'"
   ]
  },
  {
   "cell_type": "markdown",
   "metadata": {},
   "source": [
    "Train and test ranking data:"
   ]
  },
  {
   "cell_type": "code",
   "execution_count": 18,
   "metadata": {},
   "outputs": [
    {
     "name": "stderr",
     "output_type": "stream",
     "text": [
      "/tmp/ipykernel_2964353/3901081731.py:1: DtypeWarning: Columns (2,3,4,6,11,12,13,14,15,16,17,18,71,74) have mixed types. Specify dtype option on import or set low_memory=False.\n",
      "  data1 = pd.read_csv(STUDENT_DATA_TRAIN)\n",
      "/tmp/ipykernel_2964353/3901081731.py:3: DtypeWarning: Columns (2,3,4,6,11,12,13,14,58) have mixed types. Specify dtype option on import or set low_memory=False.\n",
      "  data2 = pd.read_csv(STUDENT_DATA_TEST)\n"
     ]
    }
   ],
   "source": [
    "data1 = pd.read_csv(STUDENT_DATA_TRAIN)\n",
    "data1['year'] = TRAIN_YEAR\n",
    "data2 = pd.read_csv(STUDENT_DATA_TEST)\n",
    "data2['year'] = TEST_YEAR\n",
    "raw_data = pd.concat([data1, data2], ignore_index=True, sort=False)"
   ]
  },
  {
   "cell_type": "code",
   "execution_count": 19,
   "metadata": {},
   "outputs": [],
   "source": [
    "df = raw_data[raw_data.grade=='KG'].dropna(subset=['studentno'])\n",
    "df = df[df.census_blockgroup.isin(bg_to_school_walktime.index)]\n",
    "df['first_participated_round'] = (~df[['r1_programs', 'r2_programs', 'r3_programs', 'r5_programs']].isna()).apply(lambda x: np.where(x)[0][0]+1, axis=1)\n",
    "df['first_participated_round'] = [roundd if roundd!= 4 else 5 for roundd in df['first_participated_round']]                                      \n",
    "for col in ['r1_ranked_idschool', 'r2_ranked_idschool', 'r3_ranked_idschool', 'r5_ranked_idschool',\n",
    "            'r1_programs', 'r2_programs', 'r3_programs', 'r5_programs',\n",
    "            'r1_listed_ranks', 'r2_listed_ranks', 'r3_listed_ranks', 'r5_listed_ranks',\n",
    "            'sibling', 'aaprek', 'aa']:\n",
    "    df[col] = df[col].fillna(value='[]').apply(lambda x: ast.literal_eval(x))\n",
    "df['idschoolattendance'] = df['idschoolattendance'].apply(lambda x: int(x))\n",
    "df['freelunch_prob_group'] = pd.qcut(df['freelunch_prob'],\n",
    "                                q=[0, 1/2, 1],\n",
    "                                labels=['low', 'high']) \n",
    "df['r1_ranked_programs'] = [[str(school)+'-'+str(program)+'-KG' for school, program in zip(ranked_list, programs)] for ranked_list, programs in zip(df['r1_ranked_idschool'], df['r1_programs'])]\n",
    "df['r2_ranked_programs'] = [[str(school)+'-'+str(program)+'-KG' for school, program in zip(ranked_list, programs)] for ranked_list, programs in zip(df['r2_ranked_idschool'], df['r2_programs'])]\n",
    "df['r3_ranked_programs'] = [[str(school)+'-'+str(program)+'-KG' for school, program in zip(ranked_list, programs)] for ranked_list, programs in zip(df['r3_ranked_idschool'], df['r3_programs'])]\n",
    "df['r5_ranked_programs'] = [[str(school)+'-'+str(program)+'-KG' for school, program in zip(ranked_list, programs)] for ranked_list, programs in zip(df['r5_ranked_idschool'], df['r5_programs'])]\n",
    "df['first_ranked_programs'] = [row['r'+str(row['first_participated_round'])+'_ranked_programs'] for _, row in df.iterrows()]\n",
    "df['normed_ethnicity'] = df.apply(aggregate_ethnicities, axis=1)"
   ]
  },
  {
   "cell_type": "markdown",
   "metadata": {
    "jp-MarkdownHeadingCollapsed": true,
    "tags": []
   },
   "source": [
    "# Repeated selection"
   ]
  },
  {
   "cell_type": "markdown",
   "metadata": {},
   "source": [
    "Convert rankings to individual choices via repeated selection:"
   ]
  },
  {
   "cell_type": "code",
   "execution_count": 20,
   "metadata": {
    "tags": []
   },
   "outputs": [],
   "source": [
    "dff = df[df.year==TRAIN_YEAR]\n",
    "dataset = dp.clean_dataframe(dff, program_attributes_train, program_sqrt_distances)\n",
    "choices, student_codex, program_codex, ctip_codex, ballot = dp.prep_dataset(dataset, program_attributes_train)"
   ]
  },
  {
   "cell_type": "code",
   "execution_count": 21,
   "metadata": {},
   "outputs": [],
   "source": [
    "school_codex=list(program_attributes_train.loc[program_codex,'school_id'].values)\n",
    "assert(len(school_codex)==len(program_codex))"
   ]
  },
  {
   "cell_type": "code",
   "execution_count": 22,
   "metadata": {},
   "outputs": [
    {
     "name": "stdout",
     "output_type": "stream",
     "text": [
      "No. students:  5019\n",
      "No. programs:  154\n",
      "Avg. len of ranking 9.903367204622434\n",
      "No. training examples 48714\n",
      "% CTIP1 0.16676628810520025\n"
     ]
    }
   ],
   "source": [
    "num_programs = len(program_codex)\n",
    "num_students = len(student_codex)\n",
    "print('No. students: ', num_students)\n",
    "print('No. programs: ', num_programs)\n",
    "print('Avg. len of ranking', dataset.num_ranked.mean())\n",
    "print('No. training examples', choices[0].shape[0])\n",
    "print('% CTIP1', ctip_codex.mean())"
   ]
  },
  {
   "cell_type": "markdown",
   "metadata": {
    "jp-MarkdownHeadingCollapsed": true,
    "tags": []
   },
   "source": [
    "# Covariates"
   ]
  },
  {
   "cell_type": "markdown",
   "metadata": {},
   "source": [
    "Calculate $d$ matrices of size $(n,m)$ of $d$ individual covariates:"
   ]
  },
  {
   "cell_type": "code",
   "execution_count": 23,
   "metadata": {},
   "outputs": [],
   "source": [
    "busroutes_lookup = pd.DataFrame(0, index = df.zipcode.unique(), columns=program_sqrt_distances.columns)\n",
    "for program in program_attributes_train.index:\n",
    "    school = program_attributes_train.loc[program, 'school_id']\n",
    "    zip_list = detailed_school_attributes.loc[school, 'School bus from K']\n",
    "    busroutes_lookup.loc[zip_list, program] = 1"
   ]
  },
  {
   "cell_type": "code",
   "execution_count": 24,
   "metadata": {},
   "outputs": [
    {
     "data": {
      "text/html": [
       "<div>\n",
       "<style scoped>\n",
       "    .dataframe tbody tr th:only-of-type {\n",
       "        vertical-align: middle;\n",
       "    }\n",
       "\n",
       "    .dataframe tbody tr th {\n",
       "        vertical-align: top;\n",
       "    }\n",
       "\n",
       "    .dataframe thead th {\n",
       "        text-align: right;\n",
       "    }\n",
       "</style>\n",
       "<table border=\"1\" class=\"dataframe\">\n",
       "  <thead>\n",
       "    <tr style=\"text-align: right;\">\n",
       "      <th>program_id</th>\n",
       "      <th>413-GE-KG</th>\n",
       "      <th>413-SA-KG</th>\n",
       "      <th>420-GE-KG</th>\n",
       "      <th>420-MS-KG</th>\n",
       "      <th>420-SE-KG</th>\n",
       "      <th>420-SN-KG</th>\n",
       "      <th>435-GE-KG</th>\n",
       "      <th>456-GE-KG</th>\n",
       "      <th>456-SB-KG</th>\n",
       "      <th>618-MM-KG</th>\n",
       "      <th>...</th>\n",
       "      <th>497-GE-KG</th>\n",
       "      <th>497-SE-KG</th>\n",
       "      <th>497-SN-KG</th>\n",
       "      <th>876-CE-KG</th>\n",
       "      <th>876-CN-KG</th>\n",
       "      <th>876-GE-KG</th>\n",
       "      <th>801-GE-KG</th>\n",
       "      <th>801-SA-KG</th>\n",
       "      <th>485-CE-KG</th>\n",
       "      <th>485-CT-KG</th>\n",
       "    </tr>\n",
       "    <tr>\n",
       "      <th>origin_bg</th>\n",
       "      <th></th>\n",
       "      <th></th>\n",
       "      <th></th>\n",
       "      <th></th>\n",
       "      <th></th>\n",
       "      <th></th>\n",
       "      <th></th>\n",
       "      <th></th>\n",
       "      <th></th>\n",
       "      <th></th>\n",
       "      <th></th>\n",
       "      <th></th>\n",
       "      <th></th>\n",
       "      <th></th>\n",
       "      <th></th>\n",
       "      <th></th>\n",
       "      <th></th>\n",
       "      <th></th>\n",
       "      <th></th>\n",
       "      <th></th>\n",
       "      <th></th>\n",
       "    </tr>\n",
       "  </thead>\n",
       "  <tbody>\n",
       "    <tr>\n",
       "      <th>6.075010e+10</th>\n",
       "      <td>103.181533</td>\n",
       "      <td>103.181533</td>\n",
       "      <td>92.355933</td>\n",
       "      <td>92.355933</td>\n",
       "      <td>92.355933</td>\n",
       "      <td>92.355933</td>\n",
       "      <td>106.858933</td>\n",
       "      <td>87.275667</td>\n",
       "      <td>87.275667</td>\n",
       "      <td>82.985133</td>\n",
       "      <td>...</td>\n",
       "      <td>74.362267</td>\n",
       "      <td>74.362267</td>\n",
       "      <td>74.362267</td>\n",
       "      <td>130.428933</td>\n",
       "      <td>130.428933</td>\n",
       "      <td>130.428933</td>\n",
       "      <td>11.6044</td>\n",
       "      <td>11.6044</td>\n",
       "      <td>118.252933</td>\n",
       "      <td>118.252933</td>\n",
       "    </tr>\n",
       "    <tr>\n",
       "      <th>6.075010e+10</th>\n",
       "      <td>101.583600</td>\n",
       "      <td>101.583600</td>\n",
       "      <td>90.122400</td>\n",
       "      <td>90.122400</td>\n",
       "      <td>90.122400</td>\n",
       "      <td>90.122400</td>\n",
       "      <td>105.261000</td>\n",
       "      <td>84.842067</td>\n",
       "      <td>84.842067</td>\n",
       "      <td>80.751600</td>\n",
       "      <td>...</td>\n",
       "      <td>71.928667</td>\n",
       "      <td>71.928667</td>\n",
       "      <td>71.928667</td>\n",
       "      <td>128.195400</td>\n",
       "      <td>128.195400</td>\n",
       "      <td>128.195400</td>\n",
       "      <td>9.7716</td>\n",
       "      <td>9.7716</td>\n",
       "      <td>116.064400</td>\n",
       "      <td>116.064400</td>\n",
       "    </tr>\n",
       "  </tbody>\n",
       "</table>\n",
       "<p>2 rows × 158 columns</p>\n",
       "</div>"
      ],
      "text/plain": [
       "program_id     413-GE-KG   413-SA-KG  420-GE-KG  420-MS-KG  420-SE-KG  \\\n",
       "origin_bg                                                               \n",
       "6.075010e+10  103.181533  103.181533  92.355933  92.355933  92.355933   \n",
       "6.075010e+10  101.583600  101.583600  90.122400  90.122400  90.122400   \n",
       "\n",
       "program_id    420-SN-KG   435-GE-KG  456-GE-KG  456-SB-KG  618-MM-KG  ...  \\\n",
       "origin_bg                                                             ...   \n",
       "6.075010e+10  92.355933  106.858933  87.275667  87.275667  82.985133  ...   \n",
       "6.075010e+10  90.122400  105.261000  84.842067  84.842067  80.751600  ...   \n",
       "\n",
       "program_id    497-GE-KG  497-SE-KG  497-SN-KG   876-CE-KG   876-CN-KG  \\\n",
       "origin_bg                                                               \n",
       "6.075010e+10  74.362267  74.362267  74.362267  130.428933  130.428933   \n",
       "6.075010e+10  71.928667  71.928667  71.928667  128.195400  128.195400   \n",
       "\n",
       "program_id     876-GE-KG  801-GE-KG  801-SA-KG   485-CE-KG   485-CT-KG  \n",
       "origin_bg                                                               \n",
       "6.075010e+10  130.428933    11.6044    11.6044  118.252933  118.252933  \n",
       "6.075010e+10  128.195400     9.7716     9.7716  116.064400  116.064400  \n",
       "\n",
       "[2 rows x 158 columns]"
      ]
     },
     "execution_count": 24,
     "metadata": {},
     "output_type": "execute_result"
    }
   ],
   "source": [
    "bg_to_prog_walktime = bg_to_school_walktime.loc[bg_to_school_walktime.index, program_attributes_train.school_id]\n",
    "bg_to_prog_walktime.columns = program_attributes_train.index\n",
    "bg_to_prog_walktime.head(2)"
   ]
  },
  {
   "cell_type": "code",
   "execution_count": 25,
   "metadata": {},
   "outputs": [],
   "source": [
    "busroutes = pd.DataFrame(0, columns=program_sqrt_distances.columns, index=program_sqrt_distances.index)\n",
    "walking_time = pd.DataFrame(0, columns=program_sqrt_distances.columns, index=program_sqrt_distances.index)\n",
    "siblings = pd.DataFrame(0, columns=program_sqrt_distances.columns, index=program_sqrt_distances.index)\n",
    "aaprek = pd.DataFrame(0, columns=program_sqrt_distances.columns, index=program_sqrt_distances.index)\n",
    "aa = pd.DataFrame(0, columns=program_sqrt_distances.columns, index=program_sqrt_distances.index)\n",
    "langprograms = pd.DataFrame(0, columns=program_sqrt_distances.columns, index=program_sqrt_distances.index)\n",
    "for i, row in df.iterrows():\n",
    "    student = row['studentno']\n",
    "    if student not in program_sqrt_distances.index:\n",
    "        continue\n",
    "    zipcode = row.loc['zipcode']\n",
    "    lang = row.loc['homelang_desc']\n",
    "    bg = row.loc['census_blockgroup']\n",
    "    sibling_list = row.loc['sibling']\n",
    "    prek = row.loc['aaprek']\n",
    "    aa_school = row.loc['idschoolattendance']\n",
    "    busroutes.loc[student, :] = busroutes_lookup.loc[zipcode,:]\n",
    "\n",
    "    walking_time.loc[student, :] = bg_to_prog_walktime.loc[bg,:].astype(int)\n",
    "\n",
    "    program_series = program_attributes_train[program_attributes_train.school_id==aa_school].index\n",
    "    aa.loc[student, program_series] += 1\n",
    "\n",
    "    program_series = program_attributes_train[program_attributes_train.school_id.isin(prek)].index\n",
    "    aaprek.loc[student, program_series] += 1\n",
    "\n",
    "    program_series = program_attributes_train[program_attributes_train.school_id.isin(sibling_list)].index\n",
    "    siblings.loc[student, program_series] += 1\n",
    "\n",
    "    if (lang in ['CC-Chinese Cantonese', 'SP-Spanish', 'CM-Chinese Mandarin', 'JA-Japanese', 'KO-Korean', 'FT-Filipino Tagalog', 'FI-Filipino Ilocano']):\n",
    "        program_series = program_attributes_train[program_attributes_train.program_type.isin(lang_to_program[lang])].index\n",
    "        langprograms.loc[student, program_series] += 1"
   ]
  },
  {
   "cell_type": "markdown",
   "metadata": {},
   "source": [
    "Function to stack $d$ covariate matrices into single $(n,m,d)$ ndarray:"
   ]
  },
  {
   "cell_type": "code",
   "execution_count": 26,
   "metadata": {},
   "outputs": [],
   "source": [
    "def generate_covariate_matrix(program_attributes, student_codex, program_codex, ctip_codex):\n",
    "    n=len(program_codex)\n",
    "    \n",
    "    # School/program atts\n",
    "    avg_color = np.array(program_attributes.loc[program_codex, 'AvgColorIndex']).reshape(1,n)\n",
    "    before_after_school = np.array(program_attributes.loc[program_codex, 'has_after_school_progs']|program_attributes.loc[program_codex, 'has_before_school_progs']).reshape(1,n)\n",
    "    frl = np.array(program_attributes.loc[program_codex, 'portion_FRL']).reshape(1,n)\n",
    "\n",
    "    # Student/program atts\n",
    "    avg_color_nonCTIP = np.multiply((~ctip_codex)[:,None], avg_color)[:,:,None]\n",
    "    avg_color_CTIP = np.multiply((ctip_codex)[:,None], avg_color)[:,:,None]\n",
    "    frl_nonCTIP = np.multiply((~ctip_codex)[:,None], frl)[:,:,None]\n",
    "    frl_CTIP = np.multiply((ctip_codex)[:,None], frl)[:,:,None]\n",
    "    beforeafter_nonCTIP = np.multiply((~ctip_codex)[:,None], before_after_school)[:,:,None]\n",
    "    beforeafter_CTIP = np.multiply((ctip_codex)[:,None], before_after_school)[:,:,None]\n",
    "    sqrt_program_distances = np.array(program_sqrt_distances.loc[student_codex, program_codex])[:,:,None]\n",
    "    bus_route = np.array(busroutes.loc[student_codex, program_codex])[:,:,None]\n",
    "    within_15min_walk = np.array(walking_time.loc[student_codex, program_codex]<=15.)[:,:,None]\n",
    "    sibling_match = np.array(siblings.loc[student_codex, program_codex])[:,:,None]\n",
    "    aaprek_match = np.array(aaprek.loc[student_codex, program_codex])[:,:,None]\n",
    "    aa_match = np.array(aa.loc[student_codex, program_codex])[:,:,None]\n",
    "    language_match = np.array(langprograms.loc[student_codex, program_codex])[:,:,None]\n",
    "    return np.dstack([avg_color_nonCTIP,\n",
    "                      avg_color_CTIP,\n",
    "                      frl_nonCTIP,\n",
    "                      frl_CTIP,\n",
    "                      beforeafter_nonCTIP,\n",
    "                      beforeafter_CTIP,\n",
    "                      sqrt_program_distances,\n",
    "                      within_15min_walk,\n",
    "                      bus_route,\n",
    "                      sibling_match,\n",
    "                      language_match,\n",
    "                      aa_match,\n",
    "                      aaprek_match]).astype(np.float32)"
   ]
  },
  {
   "cell_type": "code",
   "execution_count": 27,
   "metadata": {},
   "outputs": [],
   "source": [
    "covariate_names = ['Avg. Color, non-CTIP', 'Avg. Color, CTIP', \n",
    "                   'FRL, non-CTIP', 'FRL, CTIP', \n",
    "                   'Before/after school prog, non-CTIP', 'Before/after school prog, CTIP',\n",
    "                   'Sqrt. distance', 'Within 15 min walk', \n",
    "                   'Exists bus route', 'Sib. Match', 'Lang. Match', \n",
    "                   'AA', 'PreK/TK']"
   ]
  },
  {
   "cell_type": "markdown",
   "metadata": {
    "jp-MarkdownHeadingCollapsed": true,
    "tags": []
   },
   "source": [
    "# Figure 6 & 7: Hyperparameter tuning"
   ]
  },
  {
   "cell_type": "code",
   "execution_count": 28,
   "metadata": {},
   "outputs": [],
   "source": [
    "def compute_null_loss(x, x_extra, y, num_ranks=5):\n",
    "    batch_size, seq_len, _ = x.size()\n",
    "    y_hat = F.log_softmax(t.zeros((batch_size, seq_len, 1)), 1)\n",
    "    terms = []\n",
    "    for i in range(num_ranks):\n",
    "        rows = x_extra[:,2]==i\n",
    "        terms.append(F.nll_loss(y_hat[rows], y[rows, None].long()).detach().numpy())\n",
    "    return (F.nll_loss(y_hat, y[:, None].long()), terms)"
   ]
  },
  {
   "cell_type": "markdown",
   "metadata": {},
   "source": [
    "5-fold cross validation:"
   ]
  },
  {
   "cell_type": "code",
   "execution_count": 29,
   "metadata": {},
   "outputs": [],
   "source": [
    "kfolds=5\n",
    "shuffled = dataset.sample(frac=1).reset_index(drop=True)\n",
    "folds = np.array_split(shuffled, kfolds)"
   ]
  },
  {
   "cell_type": "markdown",
   "metadata": {
    "jp-MarkdownHeadingCollapsed": true,
    "tags": []
   },
   "source": [
    "## Figure 6a: Sweep over local regularization"
   ]
  },
  {
   "cell_type": "markdown",
   "metadata": {},
   "source": [
    "Scanning $\\lambda$ over $[1e-5,1e-4,1e-3,1e-2,1e-1,1.0]$:"
   ]
  },
  {
   "cell_type": "code",
   "execution_count": 30,
   "metadata": {
    "tags": []
   },
   "outputs": [],
   "source": [
    "def reg_sweep(i, wd, model_name, fixed_effect, linear, context):\n",
    "    result=[]\n",
    "    val = folds[i]\n",
    "    train = pd.concat([df for j, df in enumerate(folds) if j!=i])\n",
    "    train_choices, train_st_codex, train_prog_codex, train_ctip_codex, train_ballot = dp.prep_dataset(train, program_attributes_train)\n",
    "    (xval, xlval, yval), val_st_codex, val_ctip_codex = dp.prep_valset(val, program_attributes_train, train_prog_codex)\n",
    "  \n",
    "    X_train = generate_covariate_matrix(program_attributes_train, train_st_codex, train_prog_codex, train_ctip_codex)\n",
    "    X_val = generate_covariate_matrix(program_attributes_train, val_st_codex, train_prog_codex, val_ctip_codex)\n",
    "\n",
    "    '''\n",
    "    Train and validate models\n",
    "    '''\n",
    "    if model_name=='nested':\n",
    "        nest_memberships = program_attributes_train.loc[train_prog_codex,'nest_id'].values\n",
    "        kwargs={'fixed_effects': True,\n",
    "                'linear_terms': True,\n",
    "                'covariates': X_train,\n",
    "                'num_nests': len(nests),\n",
    "                'nest_memberships': nest_memberships}\n",
    "        model, tr_loss, num_epochs, tr_losses, _ = sp.train(ds=train_choices, \n",
    "                                                            num_items=len(train_prog_codex), \n",
    "                                                            epochs=1000, \n",
    "                                                            lr=1e-4 if (wd==1e-1) else 1e-5 if (wd==1e-2) else 1e-3, \n",
    "                                                            wd=wd, \n",
    "                                                            verbose=True, \n",
    "                                                            Model=sp.NestedMNL,\n",
    "                                                            **kwargs)\n",
    "        no_params = sum([np.prod(p.size()) for p in model.parameters() if p.requires_grad])    \n",
    "        result.append([model_name, i, wd, 'train', tr_loss, num_epochs, no_params])\n",
    "        yval_hat = model.forward(xval, xlval, X_val)\n",
    "        v_loss, v_loss_terms = model.loss_func(yval_hat, yval, xlval, train=False)\n",
    "        result.append([model_name, i, wd, 'val', v_loss, num_epochs, no_params])\n",
    "        return result    \n",
    "    else:\n",
    "        kwargs={'fixed_effects': fixed_effect,\n",
    "                'linear_terms': linear,\n",
    "                'covariates': X_train,\n",
    "                'context': context,\n",
    "                'k': 1}\n",
    "        model, tr_loss, num_epochs, tr_losses, _ = sp.train(ds=train_choices, \n",
    "                                                            num_items=len(train_prog_codex), \n",
    "                                                            epochs=1000, \n",
    "                                                            lr=1e-3, \n",
    "                                                            wd=wd, \n",
    "                                                            verbose=True, \n",
    "                                                            **kwargs)\n",
    "        no_params = sum([np.prod(p.size()) for p in model.parameters() if p.requires_grad])\n",
    "        result.append([model_name, i, wd, 'train', tr_loss, num_epochs, no_params])\n",
    "        yval_hat = model.forward(xval, xlval, X_val)\n",
    "        v_loss, v_loss_terms = model.loss_func(yval_hat, yval, xlval, train=False)\n",
    "        result.append([model_name, i, wd, 'val', v_loss, num_epochs, no_params])\n",
    "        return result"
   ]
  },
  {
   "cell_type": "code",
   "execution_count": null,
   "metadata": {
    "collapsed": true,
    "jupyter": {
     "outputs_hidden": true
    },
    "tags": []
   },
   "outputs": [
    {
     "name": "stderr",
     "output_type": "stream",
     "text": [
      "/home/ameloa/school_choice_project/arjun_cdm/data_processing.py:81: SettingWithCopyWarning: \n",
      "A value is trying to be set on a copy of a slice from a DataFrame.\n",
      "Try using .loc[row_indexer,col_indexer] = value instead\n",
      "\n",
      "See the caveats in the documentation: https://pandas.pydata.org/pandas-docs/stable/user_guide/indexing.html#returning-a-view-versus-a-copy\n",
      "  data['student_id'] = cat.codes\n",
      "/home/ameloa/school_choice_project/arjun_cdm/data_processing.py:81: SettingWithCopyWarning: \n",
      "A value is trying to be set on a copy of a slice from a DataFrame.\n",
      "Try using .loc[row_indexer,col_indexer] = value instead\n",
      "\n",
      "See the caveats in the documentation: https://pandas.pydata.org/pandas-docs/stable/user_guide/indexing.html#returning-a-view-versus-a-copy\n",
      "  data['student_id'] = cat.codes\n",
      "/home/ameloa/school_choice_project/arjun_cdm/data_processing.py:81: SettingWithCopyWarning: \n",
      "A value is trying to be set on a copy of a slice from a DataFrame.\n",
      "Try using .loc[row_indexer,col_indexer] = value instead\n",
      "\n",
      "See the caveats in the documentation: https://pandas.pydata.org/pandas-docs/stable/user_guide/indexing.html#returning-a-view-versus-a-copy\n",
      "  data['student_id'] = cat.codes\n",
      "/home/ameloa/school_choice_project/arjun_cdm/data_processing.py:81: SettingWithCopyWarning: \n",
      "A value is trying to be set on a copy of a slice from a DataFrame.\n",
      "Try using .loc[row_indexer,col_indexer] = value instead\n",
      "\n",
      "See the caveats in the documentation: https://pandas.pydata.org/pandas-docs/stable/user_guide/indexing.html#returning-a-view-versus-a-copy\n",
      "  data['student_id'] = cat.codes\n",
      "/home/ameloa/school_choice_project/arjun_cdm/data_processing.py:81: SettingWithCopyWarning: \n",
      "A value is trying to be set on a copy of a slice from a DataFrame.\n",
      "Try using .loc[row_indexer,col_indexer] = value instead\n",
      "\n",
      "See the caveats in the documentation: https://pandas.pydata.org/pandas-docs/stable/user_guide/indexing.html#returning-a-view-versus-a-copy\n",
      "  data['student_id'] = cat.codes\n",
      "/home/ameloa/school_choice_project/arjun_cdm/data_processing.py:81: SettingWithCopyWarning: \n",
      "A value is trying to be set on a copy of a slice from a DataFrame.\n",
      "Try using .loc[row_indexer,col_indexer] = value instead\n",
      "\n",
      "See the caveats in the documentation: https://pandas.pydata.org/pandas-docs/stable/user_guide/indexing.html#returning-a-view-versus-a-copy\n",
      "  data['student_id'] = cat.codes\n",
      "/home/ameloa/school_choice_project/arjun_cdm/data_processing.py:81: SettingWithCopyWarning: \n",
      "A value is trying to be set on a copy of a slice from a DataFrame.\n",
      "Try using .loc[row_indexer,col_indexer] = value instead\n",
      "\n",
      "See the caveats in the documentation: https://pandas.pydata.org/pandas-docs/stable/user_guide/indexing.html#returning-a-view-versus-a-copy\n",
      "  data['student_id'] = cat.codes\n",
      "/home/ameloa/school_choice_project/arjun_cdm/data_processing.py:81: SettingWithCopyWarning: \n",
      "A value is trying to be set on a copy of a slice from a DataFrame.\n",
      "Try using .loc[row_indexer,col_indexer] = value instead\n",
      "\n",
      "See the caveats in the documentation: https://pandas.pydata.org/pandas-docs/stable/user_guide/indexing.html#returning-a-view-versus-a-copy\n",
      "  data['student_id'] = cat.codes\n",
      "/home/ameloa/school_choice_project/arjun_cdm/data_processing.py:81: SettingWithCopyWarning: \n",
      "A value is trying to be set on a copy of a slice from a DataFrame.\n",
      "Try using .loc[row_indexer,col_indexer] = value instead\n",
      "\n",
      "See the caveats in the documentation: https://pandas.pydata.org/pandas-docs/stable/user_guide/indexing.html#returning-a-view-versus-a-copy\n",
      "  data['student_id'] = cat.codes\n",
      "/home/ameloa/school_choice_project/arjun_cdm/data_processing.py:81: SettingWithCopyWarning: \n",
      "A value is trying to be set on a copy of a slice from a DataFrame.\n",
      "Try using .loc[row_indexer,col_indexer] = value instead\n",
      "\n",
      "See the caveats in the documentation: https://pandas.pydata.org/pandas-docs/stable/user_guide/indexing.html#returning-a-view-versus-a-copy\n",
      "  data['student_id'] = cat.codes\n",
      "/home/ameloa/school_choice_project/arjun_cdm/data_processing.py:81: SettingWithCopyWarning: \n",
      "A value is trying to be set on a copy of a slice from a DataFrame.\n",
      "Try using .loc[row_indexer,col_indexer] = value instead\n",
      "\n",
      "See the caveats in the documentation: https://pandas.pydata.org/pandas-docs/stable/user_guide/indexing.html#returning-a-view-versus-a-copy\n",
      "  data['student_id'] = cat.codes\n",
      "/home/ameloa/school_choice_project/arjun_cdm/data_processing.py:81: SettingWithCopyWarning: \n",
      "A value is trying to be set on a copy of a slice from a DataFrame.\n",
      "Try using .loc[row_indexer,col_indexer] = value instead\n",
      "\n",
      "See the caveats in the documentation: https://pandas.pydata.org/pandas-docs/stable/user_guide/indexing.html#returning-a-view-versus-a-copy\n",
      "  data['student_id'] = cat.codes\n",
      "/home/ameloa/school_choice_project/arjun_cdm/data_processing.py:81: SettingWithCopyWarning: \n",
      "A value is trying to be set on a copy of a slice from a DataFrame.\n",
      "Try using .loc[row_indexer,col_indexer] = value instead\n",
      "\n",
      "See the caveats in the documentation: https://pandas.pydata.org/pandas-docs/stable/user_guide/indexing.html#returning-a-view-versus-a-copy\n",
      "  data['student_id'] = cat.codes\n",
      "/home/ameloa/school_choice_project/arjun_cdm/data_processing.py:81: SettingWithCopyWarning: \n",
      "A value is trying to be set on a copy of a slice from a DataFrame.\n",
      "Try using .loc[row_indexer,col_indexer] = value instead\n",
      "\n",
      "See the caveats in the documentation: https://pandas.pydata.org/pandas-docs/stable/user_guide/indexing.html#returning-a-view-versus-a-copy\n",
      "  data['student_id'] = cat.codes\n",
      "/home/ameloa/school_choice_project/arjun_cdm/data_processing.py:81: SettingWithCopyWarning: \n",
      "A value is trying to be set on a copy of a slice from a DataFrame.\n",
      "Try using .loc[row_indexer,col_indexer] = value instead\n",
      "\n",
      "See the caveats in the documentation: https://pandas.pydata.org/pandas-docs/stable/user_guide/indexing.html#returning-a-view-versus-a-copy\n",
      "  data['student_id'] = cat.codes\n",
      "/home/ameloa/school_choice_project/arjun_cdm/data_processing.py:81: SettingWithCopyWarning: \n",
      "A value is trying to be set on a copy of a slice from a DataFrame.\n",
      "Try using .loc[row_indexer,col_indexer] = value instead\n",
      "\n",
      "See the caveats in the documentation: https://pandas.pydata.org/pandas-docs/stable/user_guide/indexing.html#returning-a-view-versus-a-copy\n",
      "  data['student_id'] = cat.codes\n",
      "/home/ameloa/school_choice_project/arjun_cdm/data_processing.py:81: SettingWithCopyWarning: \n",
      "A value is trying to be set on a copy of a slice from a DataFrame.\n",
      "Try using .loc[row_indexer,col_indexer] = value instead\n",
      "\n",
      "See the caveats in the documentation: https://pandas.pydata.org/pandas-docs/stable/user_guide/indexing.html#returning-a-view-versus-a-copy\n",
      "  data['student_id'] = cat.codes\n",
      "/home/ameloa/school_choice_project/arjun_cdm/data_processing.py:81: SettingWithCopyWarning: \n",
      "A value is trying to be set on a copy of a slice from a DataFrame.\n",
      "Try using .loc[row_indexer,col_indexer] = value instead\n",
      "\n",
      "See the caveats in the documentation: https://pandas.pydata.org/pandas-docs/stable/user_guide/indexing.html#returning-a-view-versus-a-copy\n",
      "  data['student_id'] = cat.codes\n",
      "/home/ameloa/school_choice_project/arjun_cdm/data_processing.py:81: SettingWithCopyWarning: \n",
      "A value is trying to be set on a copy of a slice from a DataFrame.\n",
      "Try using .loc[row_indexer,col_indexer] = value instead\n",
      "\n",
      "See the caveats in the documentation: https://pandas.pydata.org/pandas-docs/stable/user_guide/indexing.html#returning-a-view-versus-a-copy\n",
      "  data['student_id'] = cat.codes\n",
      "/home/ameloa/school_choice_project/arjun_cdm/data_processing.py:81: SettingWithCopyWarning: \n",
      "A value is trying to be set on a copy of a slice from a DataFrame.\n",
      "Try using .loc[row_indexer,col_indexer] = value instead\n",
      "\n",
      "See the caveats in the documentation: https://pandas.pydata.org/pandas-docs/stable/user_guide/indexing.html#returning-a-view-versus-a-copy\n",
      "  data['student_id'] = cat.codes\n",
      "/home/ameloa/school_choice_project/arjun_cdm/data_processing.py:81: SettingWithCopyWarning: \n",
      "A value is trying to be set on a copy of a slice from a DataFrame.\n",
      "Try using .loc[row_indexer,col_indexer] = value instead\n",
      "\n",
      "See the caveats in the documentation: https://pandas.pydata.org/pandas-docs/stable/user_guide/indexing.html#returning-a-view-versus-a-copy\n",
      "  data['student_id'] = cat.codes\n",
      "/home/ameloa/school_choice_project/arjun_cdm/data_processing.py:81: SettingWithCopyWarning: \n",
      "A value is trying to be set on a copy of a slice from a DataFrame.\n",
      "Try using .loc[row_indexer,col_indexer] = value instead\n",
      "\n",
      "See the caveats in the documentation: https://pandas.pydata.org/pandas-docs/stable/user_guide/indexing.html#returning-a-view-versus-a-copy\n",
      "  data['student_id'] = cat.codes\n",
      "/home/ameloa/school_choice_project/arjun_cdm/data_processing.py:81: SettingWithCopyWarning: \n",
      "A value is trying to be set on a copy of a slice from a DataFrame.\n",
      "Try using .loc[row_indexer,col_indexer] = value instead\n",
      "\n",
      "See the caveats in the documentation: https://pandas.pydata.org/pandas-docs/stable/user_guide/indexing.html#returning-a-view-versus-a-copy\n",
      "  data['student_id'] = cat.codes\n",
      "/home/ameloa/school_choice_project/arjun_cdm/data_processing.py:81: SettingWithCopyWarning: \n",
      "A value is trying to be set on a copy of a slice from a DataFrame.\n",
      "Try using .loc[row_indexer,col_indexer] = value instead\n",
      "\n",
      "See the caveats in the documentation: https://pandas.pydata.org/pandas-docs/stable/user_guide/indexing.html#returning-a-view-versus-a-copy\n",
      "  data['student_id'] = cat.codes\n",
      "/home/ameloa/school_choice_project/arjun_cdm/data_processing.py:81: SettingWithCopyWarning: \n",
      "A value is trying to be set on a copy of a slice from a DataFrame.\n",
      "Try using .loc[row_indexer,col_indexer] = value instead\n",
      "\n",
      "See the caveats in the documentation: https://pandas.pydata.org/pandas-docs/stable/user_guide/indexing.html#returning-a-view-versus-a-copy\n",
      "  data['student_id'] = cat.codes\n",
      "/home/ameloa/school_choice_project/arjun_cdm/data_processing.py:81: SettingWithCopyWarning: \n",
      "A value is trying to be set on a copy of a slice from a DataFrame.\n",
      "Try using .loc[row_indexer,col_indexer] = value instead\n",
      "\n",
      "See the caveats in the documentation: https://pandas.pydata.org/pandas-docs/stable/user_guide/indexing.html#returning-a-view-versus-a-copy\n",
      "  data['student_id'] = cat.codes\n",
      "/home/ameloa/school_choice_project/arjun_cdm/data_processing.py:81: SettingWithCopyWarning: \n",
      "A value is trying to be set on a copy of a slice from a DataFrame.\n",
      "Try using .loc[row_indexer,col_indexer] = value instead\n",
      "\n",
      "See the caveats in the documentation: https://pandas.pydata.org/pandas-docs/stable/user_guide/indexing.html#returning-a-view-versus-a-copy\n",
      "  data['student_id'] = cat.codes\n",
      "/home/ameloa/school_choice_project/arjun_cdm/data_processing.py:81: SettingWithCopyWarning: \n",
      "A value is trying to be set on a copy of a slice from a DataFrame.\n",
      "Try using .loc[row_indexer,col_indexer] = value instead\n",
      "\n",
      "See the caveats in the documentation: https://pandas.pydata.org/pandas-docs/stable/user_guide/indexing.html#returning-a-view-versus-a-copy\n",
      "  data['student_id'] = cat.codes\n",
      "/home/ameloa/school_choice_project/arjun_cdm/data_processing.py:81: SettingWithCopyWarning: \n",
      "A value is trying to be set on a copy of a slice from a DataFrame.\n",
      "Try using .loc[row_indexer,col_indexer] = value instead\n",
      "\n",
      "See the caveats in the documentation: https://pandas.pydata.org/pandas-docs/stable/user_guide/indexing.html#returning-a-view-versus-a-copy\n",
      "  data['student_id'] = cat.codes\n",
      "/home/ameloa/school_choice_project/arjun_cdm/data_processing.py:81: SettingWithCopyWarning: \n",
      "A value is trying to be set on a copy of a slice from a DataFrame.\n",
      "Try using .loc[row_indexer,col_indexer] = value instead\n",
      "\n",
      "See the caveats in the documentation: https://pandas.pydata.org/pandas-docs/stable/user_guide/indexing.html#returning-a-view-versus-a-copy\n",
      "  data['student_id'] = cat.codes\n",
      "/home/ameloa/school_choice_project/arjun_cdm/data_processing.py:81: SettingWithCopyWarning: \n",
      "A value is trying to be set on a copy of a slice from a DataFrame.\n",
      "Try using .loc[row_indexer,col_indexer] = value instead\n",
      "\n",
      "See the caveats in the documentation: https://pandas.pydata.org/pandas-docs/stable/user_guide/indexing.html#returning-a-view-versus-a-copy\n",
      "  data['student_id'] = cat.codes\n",
      "/home/ameloa/school_choice_project/arjun_cdm/data_processing.py:81: SettingWithCopyWarning: \n",
      "A value is trying to be set on a copy of a slice from a DataFrame.\n",
      "Try using .loc[row_indexer,col_indexer] = value instead\n",
      "\n",
      "See the caveats in the documentation: https://pandas.pydata.org/pandas-docs/stable/user_guide/indexing.html#returning-a-view-versus-a-copy\n",
      "  data['student_id'] = cat.codes\n",
      "/home/ameloa/school_choice_project/arjun_cdm/data_processing.py:81: SettingWithCopyWarning: \n",
      "A value is trying to be set on a copy of a slice from a DataFrame.\n",
      "Try using .loc[row_indexer,col_indexer] = value instead\n",
      "\n",
      "See the caveats in the documentation: https://pandas.pydata.org/pandas-docs/stable/user_guide/indexing.html#returning-a-view-versus-a-copy\n",
      "  data['student_id'] = cat.codes\n",
      "/home/ameloa/school_choice_project/arjun_cdm/data_processing.py:81: SettingWithCopyWarning: \n",
      "A value is trying to be set on a copy of a slice from a DataFrame.\n",
      "Try using .loc[row_indexer,col_indexer] = value instead\n",
      "\n",
      "See the caveats in the documentation: https://pandas.pydata.org/pandas-docs/stable/user_guide/indexing.html#returning-a-view-versus-a-copy\n",
      "  data['student_id'] = cat.codes\n",
      "/home/ameloa/school_choice_project/arjun_cdm/data_processing.py:81: SettingWithCopyWarning: \n",
      "A value is trying to be set on a copy of a slice from a DataFrame.\n",
      "Try using .loc[row_indexer,col_indexer] = value instead\n",
      "\n",
      "See the caveats in the documentation: https://pandas.pydata.org/pandas-docs/stable/user_guide/indexing.html#returning-a-view-versus-a-copy\n",
      "  data['student_id'] = cat.codes\n",
      "/home/ameloa/school_choice_project/arjun_cdm/data_processing.py:81: SettingWithCopyWarning: \n",
      "A value is trying to be set on a copy of a slice from a DataFrame.\n",
      "Try using .loc[row_indexer,col_indexer] = value instead\n",
      "\n",
      "See the caveats in the documentation: https://pandas.pydata.org/pandas-docs/stable/user_guide/indexing.html#returning-a-view-versus-a-copy\n",
      "  data['student_id'] = cat.codes\n",
      "/home/ameloa/school_choice_project/arjun_cdm/data_processing.py:81: SettingWithCopyWarning: \n",
      "A value is trying to be set on a copy of a slice from a DataFrame.\n",
      "Try using .loc[row_indexer,col_indexer] = value instead\n",
      "\n",
      "See the caveats in the documentation: https://pandas.pydata.org/pandas-docs/stable/user_guide/indexing.html#returning-a-view-versus-a-copy\n",
      "  data['student_id'] = cat.codes\n",
      "/home/ameloa/school_choice_project/arjun_cdm/data_processing.py:81: SettingWithCopyWarning: \n",
      "A value is trying to be set on a copy of a slice from a DataFrame.\n",
      "Try using .loc[row_indexer,col_indexer] = value instead\n",
      "\n",
      "See the caveats in the documentation: https://pandas.pydata.org/pandas-docs/stable/user_guide/indexing.html#returning-a-view-versus-a-copy\n",
      "  data['student_id'] = cat.codes\n",
      "/home/ameloa/school_choice_project/arjun_cdm/data_processing.py:81: SettingWithCopyWarning: \n",
      "A value is trying to be set on a copy of a slice from a DataFrame.\n",
      "Try using .loc[row_indexer,col_indexer] = value instead\n",
      "\n",
      "See the caveats in the documentation: https://pandas.pydata.org/pandas-docs/stable/user_guide/indexing.html#returning-a-view-versus-a-copy\n",
      "  data['student_id'] = cat.codes\n",
      "/home/ameloa/school_choice_project/arjun_cdm/data_processing.py:81: SettingWithCopyWarning: \n",
      "A value is trying to be set on a copy of a slice from a DataFrame.\n",
      "Try using .loc[row_indexer,col_indexer] = value instead\n",
      "\n",
      "See the caveats in the documentation: https://pandas.pydata.org/pandas-docs/stable/user_guide/indexing.html#returning-a-view-versus-a-copy\n",
      "  data['student_id'] = cat.codes\n",
      "/home/ameloa/school_choice_project/arjun_cdm/data_processing.py:81: SettingWithCopyWarning: \n",
      "A value is trying to be set on a copy of a slice from a DataFrame.\n",
      "Try using .loc[row_indexer,col_indexer] = value instead\n",
      "\n",
      "See the caveats in the documentation: https://pandas.pydata.org/pandas-docs/stable/user_guide/indexing.html#returning-a-view-versus-a-copy\n",
      "  data['student_id'] = cat.codes\n",
      "/home/ameloa/school_choice_project/arjun_cdm/data_processing.py:81: SettingWithCopyWarning: \n",
      "A value is trying to be set on a copy of a slice from a DataFrame.\n",
      "Try using .loc[row_indexer,col_indexer] = value instead\n",
      "\n",
      "See the caveats in the documentation: https://pandas.pydata.org/pandas-docs/stable/user_guide/indexing.html#returning-a-view-versus-a-copy\n",
      "  data['student_id'] = cat.codes\n",
      "/home/ameloa/school_choice_project/arjun_cdm/data_processing.py:81: SettingWithCopyWarning: \n",
      "A value is trying to be set on a copy of a slice from a DataFrame.\n",
      "Try using .loc[row_indexer,col_indexer] = value instead\n",
      "\n",
      "See the caveats in the documentation: https://pandas.pydata.org/pandas-docs/stable/user_guide/indexing.html#returning-a-view-versus-a-copy\n",
      "  data['student_id'] = cat.codes\n",
      "/home/ameloa/school_choice_project/arjun_cdm/data_processing.py:81: SettingWithCopyWarning: \n",
      "A value is trying to be set on a copy of a slice from a DataFrame.\n",
      "Try using .loc[row_indexer,col_indexer] = value instead\n",
      "\n",
      "See the caveats in the documentation: https://pandas.pydata.org/pandas-docs/stable/user_guide/indexing.html#returning-a-view-versus-a-copy\n",
      "  data['student_id'] = cat.codes\n",
      "/home/ameloa/school_choice_project/arjun_cdm/data_processing.py:81: SettingWithCopyWarning: \n",
      "A value is trying to be set on a copy of a slice from a DataFrame.\n",
      "Try using .loc[row_indexer,col_indexer] = value instead\n",
      "\n",
      "See the caveats in the documentation: https://pandas.pydata.org/pandas-docs/stable/user_guide/indexing.html#returning-a-view-versus-a-copy\n",
      "  data['student_id'] = cat.codes\n",
      "/home/ameloa/school_choice_project/arjun_cdm/data_processing.py:81: SettingWithCopyWarning: \n",
      "A value is trying to be set on a copy of a slice from a DataFrame.\n",
      "Try using .loc[row_indexer,col_indexer] = value instead\n",
      "\n",
      "See the caveats in the documentation: https://pandas.pydata.org/pandas-docs/stable/user_guide/indexing.html#returning-a-view-versus-a-copy\n",
      "  data['student_id'] = cat.codes\n",
      "/home/ameloa/school_choice_project/arjun_cdm/data_processing.py:81: SettingWithCopyWarning: \n",
      "A value is trying to be set on a copy of a slice from a DataFrame.\n",
      "Try using .loc[row_indexer,col_indexer] = value instead\n",
      "\n",
      "See the caveats in the documentation: https://pandas.pydata.org/pandas-docs/stable/user_guide/indexing.html#returning-a-view-versus-a-copy\n",
      "  data['student_id'] = cat.codes\n",
      "/home/ameloa/school_choice_project/arjun_cdm/data_processing.py:81: SettingWithCopyWarning: \n",
      "A value is trying to be set on a copy of a slice from a DataFrame.\n",
      "Try using .loc[row_indexer,col_indexer] = value instead\n",
      "\n",
      "See the caveats in the documentation: https://pandas.pydata.org/pandas-docs/stable/user_guide/indexing.html#returning-a-view-versus-a-copy\n",
      "  data['student_id'] = cat.codes\n"
     ]
    }
   ],
   "source": [
    "wds=[1e-5, 1e-4, 1e-3, 1e-2, 1e-1, 1.0]\n",
    "model_names = ['fixed', 'linear', 'cdm', 'nested']\n",
    "fixed_effects = [True, True, True, True]\n",
    "linears = [False, True, True, True]\n",
    "contexts = [False, False, True, False]\n",
    "wd_results = Parallel(n_jobs=-4)(delayed(reg_sweep)(i, wd, model_name, fe, linear, context) \n",
    "                                 for i in range(kfolds) \n",
    "                                 for wd in wds \n",
    "                                 for model_name, fe, linear, context in zip(model_names, \n",
    "                                                                            fixed_effects, \n",
    "                                                                            linears, \n",
    "                                                                            contexts))\n",
    "wd_results = [subitem for item in wd_results for subitem in item]"
   ]
  },
  {
   "cell_type": "code",
   "execution_count": null,
   "metadata": {
    "tags": []
   },
   "outputs": [],
   "source": [
    "wd_results = pd.DataFrame(wd_results, columns=['model', \n",
    "                                               'fold', \n",
    "                                               'weight decay', \n",
    "                                               'loss type', \n",
    "                                               'loss', \n",
    "                                               'num epochs', \n",
    "                                               'no params'])\n",
    "wd_results['loss'] = wd_results['loss'].astype(float)\n",
    "wd_results['weight decay'] = wd_results['weight decay'].astype(float)\n",
    "wd_results"
   ]
  },
  {
   "cell_type": "code",
   "execution_count": null,
   "metadata": {
    "tags": []
   },
   "outputs": [],
   "source": [
    "pd.pivot_table(data=wd_results[wd_results['loss type']=='val'], values='loss', index='model', columns='weight decay')"
   ]
  },
  {
   "cell_type": "code",
   "execution_count": null,
   "metadata": {
    "tags": []
   },
   "outputs": [],
   "source": [
    "custom_lines = [Line2D([0], [0], color=palette[1], linestyle='--', marker='o', lw=2),\n",
    "                Line2D([0], [0], color=palette[1], linestyle='-', marker='o', lw=2),\n",
    "                Line2D([0], [0], color=palette[2], linestyle='--', marker='o', lw=2),\n",
    "                Line2D([0], [0], color=palette[2], linestyle='-', marker='o', lw=2),\n",
    "                Line2D([0], [0], color=palette[4], linestyle='--', marker='o', lw=2),\n",
    "                Line2D([0], [0], color=palette[4], linestyle='-', marker='o', lw=2),\n",
    "                Line2D([0], [0], color=palette[3], linestyle='--', marker='o', lw=2),\n",
    "                Line2D([0], [0], color=palette[3], linestyle='-', marker='o', lw=2)]\n",
    "custom_labels = ['fixed, train', \n",
    "                 'fixed, val', \n",
    "                 'linear, train', \n",
    "                 'linear, val', \n",
    "                 'nested, train', \n",
    "                 'nested, val', \n",
    "                 'CDM, train', \n",
    "                 'CDM, val', ]\n",
    "fig=plt.figure()\n",
    "sns.lineplot(data=wd_results, x='weight decay', y='loss', hue='model', \n",
    "             style='loss type', style_order=['val', 'train'], marker='o')\n",
    "plt.xscale('log')\n",
    "plt.xlabel(r'Local regularization, $\\lambda$')\n",
    "plt.ylabel(r'NLL')\n",
    "plt.legend(custom_lines, custom_labels, loc='lower right')\n",
    "fig.savefig('../Figs/local_reg.pdf', format='pdf', bbox_inches='tight')"
   ]
  },
  {
   "cell_type": "markdown",
   "metadata": {
    "jp-MarkdownHeadingCollapsed": true,
    "tags": []
   },
   "source": [
    "## Figure 6b: CDM rank sweep over embedding_dim"
   ]
  },
  {
   "cell_type": "markdown",
   "metadata": {},
   "source": [
    "Scanning $r$ over $[2,...,10]$:"
   ]
  },
  {
   "cell_type": "code",
   "execution_count": 42,
   "metadata": {},
   "outputs": [],
   "source": [
    "def rank_sweep(i, dim):\n",
    "    result=[]\n",
    "    val = folds[i]\n",
    "    train = pd.concat([df for j, df in enumerate(folds) if j!=i])\n",
    "    train_choices, train_st_codex, train_prog_codex, train_ctip_codex, train_ballot = dp.prep_dataset(train, program_attributes_train)\n",
    "    (xval, xlval, yval), val_st_codex, val_ctip_codex = dp.prep_valset(val, program_attributes_train, train_prog_codex)\n",
    "\n",
    "    '''\n",
    "    Train and validate models\n",
    "    '''\n",
    "    X_train = generate_covariate_matrix(program_attributes_train, train_st_codex, train_prog_codex, train_ctip_codex)\n",
    "    X_val = generate_covariate_matrix(program_attributes_train, val_st_codex, train_prog_codex, val_ctip_codex)\n",
    "    kwargs={'fixed_effects': True,\n",
    "            'linear_terms': True,\n",
    "            'covariates': X_train,\n",
    "            'context': True,\n",
    "            'embedding_dim': dim,\n",
    "            'k': 1}\n",
    "    model, tr_loss, num_epochs, tr_losses, _ = sp.train(ds=train_choices, \n",
    "                                                        num_items=len(train_prog_codex), \n",
    "                                                        epochs=1000, \n",
    "                                                        lr=1e-3, \n",
    "                                                        wd=1e-5, \n",
    "                                                        verbose=True, \n",
    "                                                        **kwargs)\n",
    "    no_params = sum([np.prod(p.size()) for p in model.parameters() if p.requires_grad])\n",
    "    result.append([i, dim, 'train', tr_loss, num_epochs, no_params])\n",
    "    yval_hat = model.forward(xval, xlval, X_val)\n",
    "    v_loss, v_loss_terms = model.loss_func(yval_hat, yval, xlval)\n",
    "    result.append([i, dim, 'val', v_loss, num_epochs, no_params])\n",
    "    return result"
   ]
  },
  {
   "cell_type": "code",
   "execution_count": null,
   "metadata": {
    "tags": []
   },
   "outputs": [],
   "source": [
    "cdm_results = Parallel(n_jobs=-4)(delayed(rank_sweep)(i, dim) for i in range(kfolds) for dim in range(2,11))"
   ]
  },
  {
   "cell_type": "code",
   "execution_count": null,
   "metadata": {
    "tags": []
   },
   "outputs": [],
   "source": [
    "cdm_results = [subitem for item in cdm_results for subitem in item]\n",
    "cdm_results = pd.DataFrame(cdm_results, columns=['fold', 'embedding dim', 'loss type', 'loss', 'num epochs', 'no params'])\n",
    "cdm_results['loss'] = cdm_results['loss'].astype(float)\n",
    "cdm_results['embedding dim'] = cdm_results['embedding dim'].astype(int)\n",
    "cdm_results"
   ]
  },
  {
   "cell_type": "code",
   "execution_count": null,
   "metadata": {
    "tags": []
   },
   "outputs": [],
   "source": [
    "cdm_results.pivot_table(index='embedding dim', columns='loss type', values='loss')"
   ]
  },
  {
   "cell_type": "code",
   "execution_count": null,
   "metadata": {
    "tags": []
   },
   "outputs": [],
   "source": [
    "custom_lines = [Line2D([0], [0], color=palette[3], linestyle='--', marker='o', lw=2),\n",
    "                Line2D([0], [0], color=palette[3], linestyle='-', marker='o', lw=2)]\n",
    "custom_labels = ['CDM, train', \n",
    "                 'CDM, val', ]\n",
    "fig=plt.figure()\n",
    "sns.lineplot(data=cdm_results, x='embedding dim', y='loss', style='loss type', \n",
    "             style_order = ['val', 'train'], color=sns.color_palette()[2])\n",
    "plt.xlabel(r'CDM embedding dimension, $r$')\n",
    "plt.ylabel(r'NLL')\n",
    "plt.legend(custom_lines, custom_labels)\n",
    "fig.savefig('../Figs/cdm_rank.pdf', format='pdf', bbox_inches='tight')"
   ]
  },
  {
   "cell_type": "markdown",
   "metadata": {
    "jp-MarkdownHeadingCollapsed": true,
    "tags": []
   },
   "source": [
    "## Figure 7: Stratification hyperparameter sweep"
   ]
  },
  {
   "cell_type": "markdown",
   "metadata": {},
   "source": [
    "Scanning $k$ over $[2,...,10]$ and $\\lambda_\\mathcal{L}$ over $[0.0, 1e-5, 1e-4, 1e-3, 1e-2, 1e-1, 1.0]$:"
   ]
  },
  {
   "cell_type": "code",
   "execution_count": null,
   "metadata": {},
   "outputs": [],
   "source": [
    "def strat_sweep(i, k, lambda_reg, lr, model_name, fixed_effect, linear, context):\n",
    "    result=[]\n",
    "    val = folds[i]\n",
    "    train = pd.concat([df for j, df in enumerate(folds) if j!=i])\n",
    "    train_choices, train_st_codex, train_prog_codex, train_ctip_codex, train_ballot = dp.prep_dataset(train, program_attributes_train)\n",
    "    (xval, xlval, yval), val_st_codex, val_ctip_codex = dp.prep_valset(val, program_attributes_train, train_prog_codex)\n",
    "    \n",
    "    X_train = generate_covariate_matrix(program_attributes_train, train_st_codex, train_prog_codex, train_ctip_codex)\n",
    "    X_val = generate_covariate_matrix(program_attributes_train, val_st_codex, train_prog_codex, val_ctip_codex)\n",
    "    kwargs={'fixed_effects': fixed_effect,\n",
    "            'linear_terms': linear,\n",
    "            'covariates': X_train,\n",
    "            'context': context,\n",
    "            'embedding_dim': 10,\n",
    "            'k': k,\n",
    "            'lambda_reg': lambda_reg}\n",
    "    model, tr_loss, num_epochs, tr_losses, _ = sp.train(ds=train_choices, \n",
    "                                                        num_items=len(train_prog_codex), \n",
    "                                                        epochs=1000, \n",
    "                                                        lr=lr, \n",
    "                                                        wd=1e-5, \n",
    "                                                        verbose=True, \n",
    "                                                        **kwargs)\n",
    "    no_params = sum([np.prod(p.size()) for p in model.parameters() if p.requires_grad])\n",
    "    task_loss = tr_loss - np.array(tr_losses)[-1, -1]\n",
    "    result.append([model_name, i, k, lambda_reg, lr, 'train', task_loss, num_epochs, no_params])\n",
    "    result.append([model_name, i, k, lambda_reg, lr, 'train + reg', tr_loss, num_epochs, no_params])\n",
    "    yval_hat = model.forward(xval, xlval, X_val)\n",
    "    v_loss, v_loss_terms = model.loss_func(yval_hat, yval, xlval, train=False)\n",
    "    result.append([model_name, i, k, lambda_reg, lr, 'val', v_loss, num_epochs, no_params])\n",
    "    return result"
   ]
  },
  {
   "cell_type": "code",
   "execution_count": null,
   "metadata": {
    "scrolled": true,
    "tags": []
   },
   "outputs": [],
   "source": [
    "lambdas = [0.0, 1e-5, 1e-4, 1e-3, 1e-2, 0.1, 1.]\n",
    "lrs = [1e-3, 1e-3, 1e-3, 1e-3, 5e-4, 5e-4, 5e-4]\n",
    "model_names = ['fixed', 'linear', 'cdm']\n",
    "fixed_effects = [True, True, True]\n",
    "linears = [False, True, True]\n",
    "contexts = [False, False, True]\n",
    "\n",
    "strat_results = Parallel(n_jobs=30)(delayed(strat_sweep)(i, k, lambda_reg, lr, model_name, fe, linear, context) \n",
    "                                    for i in range(kfolds) \n",
    "                                    for k in range(2,11) \n",
    "                                    for (lambda_reg, lr) in zip(lambdas, lrs)\n",
    "                                    for model_name, fe, linear, context in zip(model_names, \n",
    "                                                                               fixed_effects, \n",
    "                                                                               linears, \n",
    "                                                                                contexts))\n",
    "strat_results = [item for sublist in strat_results for item in sublist]"
   ]
  },
  {
   "cell_type": "code",
   "execution_count": null,
   "metadata": {
    "tags": []
   },
   "outputs": [],
   "source": [
    "strat_results_df = pd.DataFrame(strat_results, columns=['model', 'fold', 'k', 'lambda', 'lr', 'loss type', 'loss', 'num epochs', 'no params'])"
   ]
  },
  {
   "cell_type": "code",
   "execution_count": null,
   "metadata": {
    "tags": []
   },
   "outputs": [],
   "source": [
    "results2 = Parallel(n_jobs=30)(delayed(strat_sweep)(i, 1, 0.0, 1e-3, model_name, fe, linear, context) \n",
    "                               for i in range(kfolds) \n",
    "                               for model_name, fe, linear, context in zip(model_names, \n",
    "                                                                          fixed_effects, \n",
    "                                                                          linears, \n",
    "                                                                          contexts))\n",
    "results2 = [item for sublist in results2 for item in sublist]\n",
    "results2 = pd.DataFrame(results2, columns=['model','fold', 'k', 'lambda', 'lr', 'loss type', 'loss', 'num epochs', 'no params'])\n",
    "strat_results_df2 = pd.concat([strat_results_df, results2])"
   ]
  },
  {
   "cell_type": "code",
   "execution_count": null,
   "metadata": {
    "tags": []
   },
   "outputs": [],
   "source": [
    "df_pl = strat_results_df2[strat_results_df2['model']=='fixed']\n",
    "df_linear = strat_results_df2[strat_results_df2['model']=='linear']\n",
    "df_cdm = strat_results_df2[strat_results_df2['model']=='cdm']"
   ]
  },
  {
   "cell_type": "code",
   "execution_count": null,
   "metadata": {
    "tags": []
   },
   "outputs": [],
   "source": [
    "df_pl['loss']=df_pl.loss.astype(float)\n",
    "df_linear['loss']=df_linear.loss.astype(float)\n",
    "df_cdm['loss']=df_cdm.loss.astype(float)"
   ]
  },
  {
   "cell_type": "code",
   "execution_count": null,
   "metadata": {},
   "outputs": [],
   "source": [
    "pl_palette = sns.light_palette(sns.color_palette()[0], as_cmap=True)\n",
    "linear_palette = sns.light_palette(sns.color_palette()[1], as_cmap=True)\n",
    "cdm_palette = sns.light_palette(sns.color_palette()[2], as_cmap=True)"
   ]
  },
  {
   "cell_type": "code",
   "execution_count": null,
   "metadata": {
    "tags": []
   },
   "outputs": [],
   "source": [
    "fig, ax = plt.subplots(2,3,figsize=(18, 10), sharex=True, sharey=True)\n",
    "\n",
    "pt_pl = pd.pivot_table(df_pl[df_pl['loss type']=='train'], values='loss', index='k', columns='lambda')\n",
    "pt_linear = pd.pivot_table(df_linear[df_linear['loss type']=='train'], values='loss', index='k', columns='lambda')\n",
    "pt_cdm = pd.pivot_table(df_cdm[df_cdm['loss type']=='train'], values='loss', index='k', columns='lambda')\n",
    "pt_pl.fillna(value=pt_pl.loc[1,0.0], inplace=True)\n",
    "pt_linear.fillna(value=pt_linear.loc[1,0.0], inplace=True)\n",
    "pt_cdm.fillna(value=pt_cdm.loc[1,0.0], inplace=True)\n",
    "sns.heatmap(pt_pl, annot=True, fmt='.2f', cmap=pl_palette, ax=ax[0,0]).set(title = 'Fixed effect', xlabel='')\n",
    "sns.heatmap(pt_linear, annot=True, fmt='.2f', cmap=linear_palette, ax=ax[0,1]).set(title = 'Linear', xlabel='', ylabel='')\n",
    "sns.heatmap(pt_cdm, annot=True, fmt='.2f', cmap=cdm_palette, ax=ax[0,2]).set(title = 'CDM', xlabel='', ylabel='')\n",
    "\n",
    "pt_pl = pd.pivot_table(df_pl[df_pl['loss type']=='val'], values='loss', index='k', columns='lambda')\n",
    "pt_linear = pd.pivot_table(df_linear[df_linear['loss type']=='val'], values='loss', index='k', columns='lambda')\n",
    "pt_cdm = pd.pivot_table(df_cdm[df_cdm['loss type']=='val'], values='loss', index='k', columns='lambda')\n",
    "pt_pl.fillna(value=pt_pl.loc[1,0.0], inplace=True)\n",
    "pt_linear.fillna(value=pt_linear.loc[1,0.0], inplace=True)\n",
    "pt_cdm.fillna(value=pt_cdm.loc[1,0.0], inplace=True)\n",
    "sns.heatmap(pt_pl, annot=True, fmt='.3f', cmap=pl_palette, ax=ax[1,0]).set(xlabel=r'$\\lambda_\\mathcal{L}$')\n",
    "sns.heatmap(pt_linear, annot=True, fmt='.3f', cmap=linear_palette, ax=ax[1,1]).set(xlabel=r'$\\lambda_\\mathcal{L}$', ylabel='')\n",
    "sns.heatmap(pt_cdm, annot=True, fmt='.3f', cmap=cdm_palette, ax=ax[1,2]).set(xlabel=r'$\\lambda_\\mathcal{L}$', ylabel='')\n",
    "fig.savefig('../Figs/strat_hyperparam_heatmaps.pdf', format='pdf', bbox_inches='tight')"
   ]
  },
  {
   "cell_type": "markdown",
   "metadata": {
    "jp-MarkdownHeadingCollapsed": true,
    "tags": []
   },
   "source": [
    "# Training"
   ]
  },
  {
   "cell_type": "markdown",
   "metadata": {
    "jp-MarkdownHeadingCollapsed": true,
    "tags": []
   },
   "source": [
    "## Load test attributes"
   ]
  },
  {
   "cell_type": "code",
   "execution_count": 46,
   "metadata": {},
   "outputs": [],
   "source": [
    "school_attributes_test = pd.read_csv(TEST_SCHOOL_ATTS_PATH, index_col='school_id')\n",
    "for column in ['ela_color', 'math_color', 'chronic_color', 'suspension_color']:\n",
    "    school_attributes_test[column].replace(['Red', 'Orange', 'Yellow', 'Green', 'Blue'], [1.,2.,3.,4.,5.], inplace=True)\n",
    "school_attributes_test['AvgColorIndex'] = school_attributes_test[['ela_color', 'math_color', 'chronic_color', 'suspension_color']].mean(numeric_only=True, axis=1)\n",
    "school_attributes_test['% FRL 2019-2022'] = detailed_school_attributes.loc[school_attributes_test.index,'% FRL']\n",
    "school_attributes_test['has_before_school_progs'] = detailed_school_attributes.loc[school_attributes_test.index,'Has Before School Programs'].map({'Yes':1, 'No':0})\n",
    "school_attributes_test['has_after_school_progs'] = detailed_school_attributes.loc[school_attributes_test.index,'Has After School Programs'].map({'Yes':1, 'No':0})\n"
   ]
  },
  {
   "cell_type": "code",
   "execution_count": 47,
   "metadata": {},
   "outputs": [],
   "source": [
    "program_attributes_test = pd.read_csv(TEST_PROGRAM_ATTS_PATH, index_col='program_id')\n",
    "program_attributes_test['school_id'] = program_attributes_test.school_id.astype(int)\n",
    "program_attributes_test['nest_membership'] = [prog_to_nest[program_type] for program_type in program_attributes_test['program_type']]\n",
    "program_attributes_test['AvgColorIndex'] = [school_attributes_test.loc[school,'AvgColorIndex'] for school in program_attributes_test.school_id]\n",
    "program_attributes_test['portion_FRL'] = [school_attributes_test.loc[school,'% FRL 2019-2022']/100. for school in program_attributes_test.school_id]\n",
    "program_attributes_test['has_before_school_progs'] = [school_attributes_test.loc[school,'has_before_school_progs'] for school in program_attributes_test.school_id]\n",
    "program_attributes_test['has_after_school_progs'] = [school_attributes_test.loc[school,'has_after_school_progs'] for school in program_attributes_test.school_id]\n",
    "program_attributes_test = pd.concat([program_attributes_test, program_attributes_train[~program_attributes_train.index.isin(program_attributes_test.index)]])\n",
    "program_attributes_test['nest_id'] = [nests.index(nest) for nest in program_attributes_test['nest_membership']]"
   ]
  },
  {
   "cell_type": "code",
   "execution_count": 48,
   "metadata": {},
   "outputs": [],
   "source": [
    "df_test = df[df.year==TEST_YEAR]\n",
    "dataset_test = dp.clean_dataframe(df_test, program_attributes_test, program_sqrt_distances)"
   ]
  },
  {
   "cell_type": "markdown",
   "metadata": {
    "jp-MarkdownHeadingCollapsed": true,
    "tags": []
   },
   "source": [
    "## Train"
   ]
  },
  {
   "cell_type": "code",
   "execution_count": 49,
   "metadata": {},
   "outputs": [],
   "source": [
    "X = generate_covariate_matrix(program_attributes_train, student_codex, program_codex, ctip_codex)"
   ]
  },
  {
   "cell_type": "code",
   "execution_count": 50,
   "metadata": {
    "tags": []
   },
   "outputs": [],
   "source": [
    "(xtest, xltest, ytest), student_codex_test, ctip_codex_test = dp.prep_valset(dataset_test, program_attributes_test, program_codex)\n",
    "X_test = generate_covariate_matrix(program_attributes_test, student_codex_test, program_codex, ctip_codex_test)"
   ]
  },
  {
   "cell_type": "code",
   "execution_count": 51,
   "metadata": {},
   "outputs": [
    {
     "name": "stdout",
     "output_type": "stream",
     "text": [
      "No. students:  4260\n",
      "No. programs:  154\n",
      "Avg. len of ranking 7.028169014084507\n",
      "No. training examples 29216\n",
      "% CTIP1 0.1880281690140845\n"
     ]
    }
   ],
   "source": [
    "print('No. students: ', len(student_codex_test))\n",
    "print('No. programs: ', num_programs)\n",
    "print('Avg. len of ranking', dataset_test.num_ranked.mean())\n",
    "print('No. training examples', xtest.shape[0])\n",
    "print('% CTIP1', ctip_codex_test.mean())"
   ]
  },
  {
   "cell_type": "code",
   "execution_count": 52,
   "metadata": {
    "tags": []
   },
   "outputs": [],
   "source": [
    "def full_train_test(model_string, fe, linear, context, strat, num_ranks=5):\n",
    "    result=[]\n",
    "    train = pd.concat([df for j, df in enumerate(folds)])\n",
    "\n",
    "    train_choices, train_st_codex, train_prog_codex, train_ctip_codex, train_ballot = dp.prep_dataset(train, program_attributes_train)\n",
    "    X_train = generate_covariate_matrix(program_attributes_train, train_st_codex, train_prog_codex, train_ctip_codex)\n",
    "    (xtest, xltest, ytest), test_st_codex, test_ctip_codex = dp.prep_valset(dataset_test, program_attributes_test, train_prog_codex)\n",
    "    X_test = generate_covariate_matrix(program_attributes_test, test_st_codex, train_prog_codex, test_ctip_codex)\n",
    "    \n",
    "    if model_string=='null':\n",
    "        tr_loss, tr_loss_terms = compute_null_loss(train_choices[0], train_choices[1], train_choices[2], num_ranks=num_ranks)\n",
    "        test_loss, test_loss_terms = compute_null_loss(xtest, xltest, ytest, num_ranks=num_ranks)\n",
    "        result.append([model_string, strat, 'train', 'all', float(tr_loss), 0.0, 0.0])\n",
    "        result.append([model_string, strat, 'test', 'all', float(test_loss), 0.0, 0.0])\n",
    "        for j in range(num_ranks):\n",
    "            result.append([model_string, strat, 'train', j, float(tr_loss_terms[j]), 0.0, 0.0])\n",
    "            result.append([model_string, strat, 'test', j, float(test_loss_terms[j]), 0.0, 0.0])\n",
    "        return ((model_string, None), result)\n",
    "    elif model_string=='nested':\n",
    "        nest_memberships = program_attributes_test.loc[train_prog_codex,'nest_id'].values\n",
    "        kwargs={'fixed_effects': True,\n",
    "                'linear_terms': True,\n",
    "                'covariates': X_train,\n",
    "                'num_nests': len(nests),\n",
    "                'nest_memberships': nest_memberships,\n",
    "                'num_ranks': num_ranks}\n",
    "        model, tr_loss, num_epochs, tr_losses, _ = sp.train(ds=train_choices, \n",
    "                                                            num_items=len(train_prog_codex), \n",
    "                                                            epochs=1000, \n",
    "                                                            lr=1e-3, \n",
    "                                                            wd=1e-5, \n",
    "                                                            verbose=True, \n",
    "                                                            Model=sp.NestedMNL,\n",
    "                                                            **kwargs)\n",
    "        no_params = sum([np.prod(p.size()) for p in model.parameters() if p.requires_grad])    \n",
    "        tr_losses = np.array(tr_losses)\n",
    "        task_loss = tr_loss - tr_losses[-1, -1] if strat else tr_loss\n",
    "        result.append([model_string, False, 'train', 'all', float(task_loss), num_epochs, no_params])\n",
    "        result.append([model_string, False, 'train + reg', 'all', float(tr_loss), num_epochs, no_params])\n",
    "        \n",
    "        ytest_hat = model.forward(xtest, xltest, X_test)\n",
    "        test_loss, test_loss_terms = model.loss_func(ytest_hat, ytest, xltest, train=False)\n",
    "        result.append([model_string, False, 'test', 'all', float(test_loss), num_epochs, no_params])\n",
    "        for j in range(num_ranks):\n",
    "            result.append([model_string, False, 'train', j, float(tr_losses[-1, j]), num_epochs, no_params])\n",
    "            result.append([model_string, False, 'test', j, float(test_loss_terms[j]), num_epochs, no_params])\n",
    "        return ((model_string, model), result)\n",
    "    else:\n",
    "        kwargs={'fixed_effects': fe,\n",
    "                'linear_terms': linear,\n",
    "                'covariates': X_train,\n",
    "                'context': context,\n",
    "                'embedding_dim': 10,\n",
    "                'k': 10 if (model_string in ['strat cdm', 'strat linear', 'strat fixed']) else 1,\n",
    "                'lambda_reg': 1e-3 if (model_string=='strat cdm') else 1e-4 if (model_string in ['strat linear', 'strat fixed']) else 0.0, \n",
    "                'num_ranks': num_ranks}\n",
    "        model, tr_loss, num_epochs, tr_losses, _ = sp.train(ds=train_choices, \n",
    "                                                            num_items=len(train_prog_codex), \n",
    "                                                            epochs=1000, \n",
    "                                                            lr=1e-3, \n",
    "                                                            wd=1e-5, \n",
    "                                                            verbose=True, \n",
    "                                                            **kwargs)\n",
    "        no_params = sum([np.prod(p.size()) for p in model.parameters() if p.requires_grad])    \n",
    "        tr_losses = np.array(tr_losses)\n",
    "        task_loss = tr_loss - tr_losses[-1, -1] if strat else tr_loss\n",
    "        result.append([model_string, strat, 'train', 'all', float(task_loss), num_epochs, no_params])\n",
    "        result.append([model_string, strat, 'train + reg', 'all', float(tr_loss), num_epochs, no_params])\n",
    "        \n",
    "        ytest_hat = model.forward(xtest, xltest, X_test)\n",
    "        test_loss, test_loss_terms = model.loss_func(ytest_hat, ytest, xltest, train=False)\n",
    "        result.append([model_string, strat, 'test', 'all', float(test_loss), num_epochs, no_params])\n",
    "        for j in range(num_ranks):\n",
    "            result.append([model_string, strat, 'train', j, float(tr_losses[-1, j]), num_epochs, no_params])\n",
    "            result.append([model_string, strat, 'test', j, float(test_loss_terms[j]), num_epochs, no_params])\n",
    "        return ((model_string, model), result)"
   ]
  },
  {
   "cell_type": "code",
   "execution_count": 54,
   "metadata": {
    "tags": []
   },
   "outputs": [
    {
     "name": "stdout",
     "output_type": "stream",
     "text": [
      "Epoch: 25, Training Loss: 4.133834362030029\n",
      "Epoch: 50, Training Loss: 4.00186824798584\n",
      "Epoch: 75, Training Loss: 3.972177505493164\n",
      "Epoch: 100, Training Loss: 3.9603800773620605\n",
      "Epoch: 125, Training Loss: 3.9549062252044678\n",
      "Runtime: 47.085455894470215\n",
      "Loss: 3.9534850120544434\n",
      "Epoch: 25, Training Loss: 3.7689573764801025\n",
      "Epoch: 50, Training Loss: 3.5229742527008057\n",
      "Epoch: 75, Training Loss: 3.439573049545288\n",
      "Epoch: 100, Training Loss: 3.4074532985687256\n",
      "Epoch: 125, Training Loss: 3.394519329071045\n",
      "Epoch: 150, Training Loss: 3.3890206813812256\n",
      "Runtime: 101.85351943969727\n",
      "Loss: 3.3874900341033936\n",
      "Epoch: 25, Training Loss: 4.138688564300537\n",
      "Epoch: 50, Training Loss: 3.9666223526000977\n",
      "Epoch: 75, Training Loss: 3.922844648361206\n",
      "Epoch: 100, Training Loss: 3.9078142642974854\n",
      "Epoch: 125, Training Loss: 3.9007699489593506\n",
      "Epoch: 150, Training Loss: 3.897174835205078\n",
      "Runtime: 103.65255761146545\n",
      "Loss: 3.8970751762390137\n",
      "Epoch: 25, Training Loss: 3.735184907913208\n",
      "Epoch: 50, Training Loss: 3.4711215496063232\n",
      "Epoch: 75, Training Loss: 3.3735294342041016\n",
      "Epoch: 100, Training Loss: 3.328664779663086\n",
      "Epoch: 125, Training Loss: 3.307060956954956\n",
      "Epoch: 150, Training Loss: 3.2967593669891357\n",
      "Epoch: 175, Training Loss: 3.291961431503296\n",
      "Runtime: 222.60518217086792\n",
      "Loss: 3.291067361831665\n",
      "Epoch: 25, Training Loss: 3.6747143268585205\n",
      "Epoch: 50, Training Loss: 3.4965314865112305\n",
      "Epoch: 75, Training Loss: 3.426985502243042\n",
      "Epoch: 100, Training Loss: 3.3960163593292236\n",
      "Epoch: 125, Training Loss: 3.38116192817688\n",
      "Epoch: 150, Training Loss: 3.373382329940796\n",
      "Epoch: 175, Training Loss: 3.3690829277038574\n",
      "Runtime: 420.8858377933502\n",
      "Loss: 3.367738723754883\n",
      "Epoch: 25, Training Loss: 3.350499391555786\n",
      "Epoch: 50, Training Loss: 3.065607786178589\n",
      "Epoch: 75, Training Loss: 2.9938390254974365\n",
      "Epoch: 100, Training Loss: 2.952524185180664\n",
      "Epoch: 125, Training Loss: 2.9282736778259277\n",
      "Epoch: 150, Training Loss: 2.91222882270813\n",
      "Epoch: 175, Training Loss: 2.9007492065429688\n",
      "Epoch: 200, Training Loss: 2.8923850059509277\n",
      "Epoch: 225, Training Loss: 2.8861541748046875\n",
      "Epoch: 250, Training Loss: 2.8814926147460938\n",
      "Epoch: 275, Training Loss: 2.87802791595459\n",
      "Runtime: 531.5665483474731\n",
      "Loss: 2.8760664463043213\n"
     ]
    }
   ],
   "source": [
    "model_names=['null', 'fixed', 'strat fixed', 'linear', 'strat linear', 'cdm', 'strat cdm', 'nested']\n",
    "fixed_effects=[False, True, True, True, True, True, True, True]\n",
    "linears=[False, False, False, True, True, True, True, True]\n",
    "contexts=[False, False, False, False, False, True, True, False]\n",
    "strats=[False, False, True, False, True, False, True, False]\n",
    "full_train_results = Parallel(n_jobs=-4)(delayed(full_train_test)(model_string, fe, linear, context, strat) \n",
    "                                         for model_string, fe, linear, context, strat in zip(model_names, \n",
    "                                                                                             fixed_effects, \n",
    "                                                                                             linears, \n",
    "                                                                                             contexts, \n",
    "                                                                                             strats))"
   ]
  },
  {
   "cell_type": "code",
   "execution_count": 55,
   "metadata": {
    "tags": []
   },
   "outputs": [],
   "source": [
    "model_dict = {model_tuple[0]: model_tuple[1] for model_tuple, _ in full_train_results}\n",
    "full_train_df = pd.DataFrame([subitem for _, result in full_train_results for subitem in result],\n",
    "                             columns=['model name', 'stratified', 'loss type', 'rank', 'loss', 'num epochs', 'no params'])\n",
    "full_train_df['model'] = [name.split()[-1] for name in full_train_df['model name']]"
   ]
  },
  {
   "cell_type": "markdown",
   "metadata": {
    "tags": []
   },
   "source": [
    "# Figures 3, 8, 9 & 10: Parameter estimates"
   ]
  },
  {
   "cell_type": "markdown",
   "metadata": {
    "tags": []
   },
   "source": [
    "## Figure 8: Stratified fixed-effects, $\\hat\\delta^k$"
   ]
  },
  {
   "cell_type": "code",
   "execution_count": 223,
   "metadata": {
    "tags": []
   },
   "outputs": [
    {
     "data": {
      "image/png": "[encoded data removed]",
      "text/plain": [
       "<Figure size 1440x432 with 1 Axes>"
      ]
     },
     "metadata": {
      "needs_background": "light"
     },
     "output_type": "display_data"
    }
   ],
   "source": [
    "fig, ax = plt.subplots(1, 1, figsize=(20,6))\n",
    "pl_logits = pd.Series(model_dict['strat fixed'].logits[0].weight.detach().numpy()[:-1].flatten(), index=program_codex)\n",
    "sorted_programs = pl_logits.sort_values(ascending=False).index\n",
    "\n",
    "strat_logits = [pd.Series(model_dict['strat fixed'].logits[i].weight.detach().numpy()[:-1].flatten(), index=program_codex) for i in range(model_dict['strat fixed'].k)]\n",
    "shifted_logits = [(logit - logit.mean()) for logit in strat_logits]\n",
    "strat_logits_df = pd.DataFrame(shifted_logits).T.melt(ignore_index=False).reset_index()\n",
    "strat_logits_df['bucket'] = strat_logits_df['variable'].map({i: '$k=$' + str(i+1) for i in range(10)})\n",
    "sns.barplot(data=strat_logits_df[strat_logits_df.bucket.isin(['$k=$1', '$k=$10'])], \n",
    "            x='index', y='value', hue='bucket', order=sorted_programs, \n",
    "            palette=sns.light_palette(palette[1],n_colors=3)[-2:], ax=ax).set(xticklabels=[], \n",
    "                                                                                xlabel='Program', \n",
    "                                                                                ylabel='$\\hat\\delta^k_i$', \n",
    "                                                                                title='Stratified fixed-effect $\\hat\\delta^k$')\n",
    "ax.legend()\n",
    "fig.savefig('../Figs/strat_logits.pdf', format='pdf', bbox_inches='tight')"
   ]
  },
  {
   "cell_type": "markdown",
   "metadata": {
    "jp-MarkdownHeadingCollapsed": true,
    "tags": []
   },
   "source": [
    "## Figure 9: Non-stratified coefficients, $\\hat\\beta$"
   ]
  },
  {
   "cell_type": "code",
   "execution_count": 226,
   "metadata": {
    "tags": []
   },
   "outputs": [
    {
     "data": {
      "image/png": "[encoded data removed]",
      "text/plain": [
       "<Figure size 864x432 with 2 Axes>"
      ]
     },
     "metadata": {
      "needs_background": "light"
     },
     "output_type": "display_data"
    }
   ],
   "source": [
    "beta_linear = pd.concat([pd.DataFrame([beta.weight.detach().numpy().flatten(), covariate_names, np.full((len(covariate_names)), fill_value=i+1)]).transpose() for i, beta in enumerate(model_dict['linear'].beta)])\n",
    "beta_linear.columns=['coefficient','covariate','k']\n",
    "beta_cdm = pd.concat([pd.DataFrame([beta.weight.detach().numpy().flatten(), covariate_names, np.full((len(covariate_names)), fill_value=i+1)]).transpose() for i, beta in enumerate(model_dict['cdm'].beta)])\n",
    "beta_cdm.columns=['coefficient','covariate','k']\n",
    "\n",
    "fig, ax = plt.subplots(2, 1, figsize=(12,6), sharex=True, sharey=True)\n",
    "sns.barplot(data = beta_linear, x='covariate', y='coefficient', color=palette[2], ax=ax[0]).set(\n",
    "        title=r'Linear $\\hat{\\beta}$',\n",
    "        xlabel='',\n",
    "        ylabel=r'Coefficient'\n",
    "    )\n",
    "sns.barplot(data = beta_cdm, x='covariate', y='coefficient', color=palette[3], ax=ax[1]).set(\n",
    "        title=r'CDM $\\hat{\\beta}$',\n",
    "        xlabel='',\n",
    "        ylabel=r'Coefficient'\n",
    "    )\n",
    "ax[1].set_xticklabels(ax[1].get_xticklabels(), rotation=45, fontdict={'horizontalalignment':'right'})\n",
    "fig.savefig('../Figs/beta.pdf', format='pdf', bbox_inches='tight')"
   ]
  },
  {
   "cell_type": "markdown",
   "metadata": {
    "jp-MarkdownHeadingCollapsed": true,
    "tags": []
   },
   "source": [
    "## Figure 10: Stratified coefficients, $\\hat\\beta^k$"
   ]
  },
  {
   "cell_type": "code",
   "execution_count": 225,
   "metadata": {
    "tags": []
   },
   "outputs": [
    {
     "data": {
      "image/png": "[encoded data removed]",
      "text/plain": [
       "<Figure size 1080x720 with 2 Axes>"
      ]
     },
     "metadata": {
      "needs_background": "light"
     },
     "output_type": "display_data"
    }
   ],
   "source": [
    "beta_linear = pd.concat([pd.DataFrame([beta.weight.detach().numpy().flatten(), covariate_names, np.full((len(covariate_names)), fill_value=i+1)]).transpose() for i, beta in enumerate(model_dict['strat linear'].beta)])\n",
    "beta_linear.columns=['coefficient','covariate','k']\n",
    "\n",
    "beta_cdm = pd.concat([pd.DataFrame([beta.weight.detach().numpy().flatten(), covariate_names, np.full((len(covariate_names)), fill_value=i+1)]).transpose() for i, beta in enumerate(model_dict['strat cdm'].beta)])\n",
    "beta_cdm.columns=['coefficient','covariate','k']\n",
    "\n",
    "fig, ax = plt.subplots(2, 1, figsize=(15,10), sharex=True)\n",
    "sns.barplot(data = beta_linear, x='covariate', y='coefficient', hue='k', palette = sns.light_palette(palette[2],n_colors=10)[::-1], ax=ax[0]).set(\n",
    "        title=r'Stratified Linear $\\hat{\\beta}$',\n",
    "        xlabel='',\n",
    "        ylabel=r'Coefficient'\n",
    "    )\n",
    "sns.barplot(data = beta_cdm, x='covariate', y='coefficient', hue='k', palette = sns.light_palette(palette[3],n_colors=10)[::-1], ax=ax[1]).set(\n",
    "        title=r'Stratified CDM $\\hat{\\beta}$',\n",
    "        xlabel='',\n",
    "        ylabel=r'Coefficient',\n",
    "    )\n",
    "ax[1].set_xticklabels(ax[1].get_xticklabels(), rotation=45, fontdict={'horizontalalignment': 'right'})\n",
    "ax[0].legend(bbox_to_anchor=(1.0, 1.02))\n",
    "ax[1].legend(bbox_to_anchor=(1.0, 1.02))\n",
    "fig.savefig('../Figs/strat_beta.pdf', format='pdf', bbox_inches='tight')"
   ]
  },
  {
   "cell_type": "markdown",
   "metadata": {
    "jp-MarkdownHeadingCollapsed": true,
    "tags": []
   },
   "source": [
    "## Figure 3: Non-stratified CDM contexts, $\\hat U$"
   ]
  },
  {
   "cell_type": "code",
   "execution_count": 227,
   "metadata": {},
   "outputs": [],
   "source": [
    "prog_mapping = pd.DataFrame({\n",
    "    'program type': ['GE', \n",
    "                     'MM', 'MS', 'SA', 'AF', 'ED', \n",
    "                     'SN', 'SE', 'NS', 'SB',\n",
    "                     'CE', 'CN', 'ME', 'MN', 'CT', 'NC', 'CB', \n",
    "                     'JN', 'JE', \n",
    "                     'KE', 'KN',\n",
    "                     'DA', 'DT', 'FB'],\n",
    "})\n",
    "sort_mapping = prog_mapping.reset_index().set_index('program type')\n",
    "program_attributes_train['program_num'] = program_attributes_train['program_type'].map(sort_mapping['index'])\n",
    "program_attributes_train['logits'] = 0.0\n",
    "program_attributes_train.loc[program_codex, 'logits'] = -pl_logits"
   ]
  },
  {
   "cell_type": "code",
   "execution_count": 228,
   "metadata": {
    "tags": []
   },
   "outputs": [
    {
     "data": {
      "image/png": "[encoded data removed]",
      "text/plain": [
       "<Figure size 576x432 with 2 Axes>"
      ]
     },
     "metadata": {
      "needs_background": "light"
     },
     "output_type": "display_data"
    }
   ],
   "source": [
    "pl_logits = pd.Series(model_dict['fixed'].logits[0].weight.detach().numpy()[:-1].flatten(), index=program_codex)\n",
    "pl_logits -= pl_logits.mean()\n",
    "\n",
    "target = pd.DataFrame(model_dict['cdm'].target_embeddings[0].weight.detach().numpy()[:-1], index=program_codex)\n",
    "context = pd.DataFrame(model_dict['cdm'].context_embeddings[0].weight.detach().numpy()[:-1], index=program_codex)\n",
    "Ufull = target.values @ context.values.T\n",
    "np.fill_diagonal(Ufull,0); Ufull -= Ufull.sum()/(num_programs*(num_programs-1)); np.fill_diagonal(Ufull,0)\n",
    "\n",
    "Ufull_df = pd.DataFrame(Ufull, index=program_codex, columns=program_codex)\n",
    "sorted_U_df = Ufull_df.loc[program_attributes_train.loc[program_codex].sort_values(by=['program_num', 'logits']).index, \n",
    "                           program_attributes_train.loc[program_codex].sort_values(by=['program_num', 'logits']).index]\n",
    "\n",
    "fig, ax = plt.subplots(1,1,figsize=(8,6))\n",
    "sns.heatmap(data=sorted_U_df, cmap='RdBu', square=True, xticklabels=False, yticklabels=False, ax=ax).set(xlabel='', ylabel='')\n",
    "fig.savefig('../Figs/U_col.pdf', format='pdf', bbox_inches='tight')"
   ]
  },
  {
   "cell_type": "markdown",
   "metadata": {
    "jp-MarkdownHeadingCollapsed": true,
    "tags": []
   },
   "source": [
    "# Figures 1, 2, 4, & 11: Loss evaluation"
   ]
  },
  {
   "cell_type": "markdown",
   "metadata": {
    "jp-MarkdownHeadingCollapsed": true,
    "tags": []
   },
   "source": [
    "## Figure 1: NLL Loss"
   ]
  },
  {
   "cell_type": "code",
   "execution_count": 113,
   "metadata": {},
   "outputs": [
    {
     "data": {
      "text/plain": [
       "(Parameter containing:\n",
       " tensor([[0.7315],\n",
       "         [0.6042],\n",
       "         [0.5425],\n",
       "         [0.4462],\n",
       "         [0.6411],\n",
       "         [0.5696],\n",
       "         [0.2947]], requires_grad=True),\n",
       " ['Chinese Language',\n",
       "  'Filipino Language',\n",
       "  'General Education',\n",
       "  'Japanese Language',\n",
       "  'Korean Language',\n",
       "  'Spanish Language',\n",
       "  'Special Education'])"
      ]
     },
     "execution_count": 113,
     "metadata": {},
     "output_type": "execute_result"
    }
   ],
   "source": [
    "model_dict['nested'].scale_parameter.weight, nests"
   ]
  },
  {
   "cell_type": "code",
   "execution_count": 114,
   "metadata": {
    "tags": []
   },
   "outputs": [],
   "source": [
    "rank_results = full_train_df[(full_train_df['rank']!='all') & (full_train_df['loss type']!='train + reg')]\n",
    "overall_results = full_train_df[(full_train_df['rank']=='all') & (full_train_df['loss type']!='train + reg')]"
   ]
  },
  {
   "cell_type": "code",
   "execution_count": 115,
   "metadata": {},
   "outputs": [
    {
     "data": {
      "text/html": [
       "<div>\n",
       "<style scoped>\n",
       "    .dataframe tbody tr th:only-of-type {\n",
       "        vertical-align: middle;\n",
       "    }\n",
       "\n",
       "    .dataframe tbody tr th {\n",
       "        vertical-align: top;\n",
       "    }\n",
       "\n",
       "    .dataframe thead th {\n",
       "        text-align: right;\n",
       "    }\n",
       "</style>\n",
       "<table border=\"1\" class=\"dataframe\">\n",
       "  <thead>\n",
       "    <tr style=\"text-align: right;\">\n",
       "      <th></th>\n",
       "      <th>model name</th>\n",
       "      <th>stratified</th>\n",
       "      <th>loss type</th>\n",
       "      <th>rank</th>\n",
       "      <th>loss</th>\n",
       "      <th>num epochs</th>\n",
       "      <th>no params</th>\n",
       "      <th>model</th>\n",
       "    </tr>\n",
       "  </thead>\n",
       "  <tbody>\n",
       "    <tr>\n",
       "      <th>1</th>\n",
       "      <td>null</td>\n",
       "      <td>False</td>\n",
       "      <td>test</td>\n",
       "      <td>all</td>\n",
       "      <td>4.962845</td>\n",
       "      <td>0.0</td>\n",
       "      <td>0.0</td>\n",
       "      <td>null</td>\n",
       "    </tr>\n",
       "    <tr>\n",
       "      <th>14</th>\n",
       "      <td>fixed</td>\n",
       "      <td>False</td>\n",
       "      <td>test</td>\n",
       "      <td>all</td>\n",
       "      <td>4.060420</td>\n",
       "      <td>137.0</td>\n",
       "      <td>155.0</td>\n",
       "      <td>fixed</td>\n",
       "    </tr>\n",
       "    <tr>\n",
       "      <th>27</th>\n",
       "      <td>strat fixed</td>\n",
       "      <td>True</td>\n",
       "      <td>test</td>\n",
       "      <td>all</td>\n",
       "      <td>3.974716</td>\n",
       "      <td>151.0</td>\n",
       "      <td>1550.0</td>\n",
       "      <td>fixed</td>\n",
       "    </tr>\n",
       "    <tr>\n",
       "      <th>40</th>\n",
       "      <td>linear</td>\n",
       "      <td>False</td>\n",
       "      <td>test</td>\n",
       "      <td>all</td>\n",
       "      <td>3.483318</td>\n",
       "      <td>163.0</td>\n",
       "      <td>168.0</td>\n",
       "      <td>linear</td>\n",
       "    </tr>\n",
       "    <tr>\n",
       "      <th>53</th>\n",
       "      <td>strat linear</td>\n",
       "      <td>True</td>\n",
       "      <td>test</td>\n",
       "      <td>all</td>\n",
       "      <td>3.331368</td>\n",
       "      <td>183.0</td>\n",
       "      <td>1680.0</td>\n",
       "      <td>linear</td>\n",
       "    </tr>\n",
       "    <tr>\n",
       "      <th>66</th>\n",
       "      <td>cdm</td>\n",
       "      <td>False</td>\n",
       "      <td>test</td>\n",
       "      <td>all</td>\n",
       "      <td>2.943985</td>\n",
       "      <td>293.0</td>\n",
       "      <td>3268.0</td>\n",
       "      <td>cdm</td>\n",
       "    </tr>\n",
       "    <tr>\n",
       "      <th>79</th>\n",
       "      <td>strat cdm</td>\n",
       "      <td>True</td>\n",
       "      <td>test</td>\n",
       "      <td>all</td>\n",
       "      <td>2.859413</td>\n",
       "      <td>434.0</td>\n",
       "      <td>32680.0</td>\n",
       "      <td>cdm</td>\n",
       "    </tr>\n",
       "    <tr>\n",
       "      <th>92</th>\n",
       "      <td>nested</td>\n",
       "      <td>False</td>\n",
       "      <td>test</td>\n",
       "      <td>all</td>\n",
       "      <td>3.449600</td>\n",
       "      <td>187.0</td>\n",
       "      <td>175.0</td>\n",
       "      <td>nested</td>\n",
       "    </tr>\n",
       "  </tbody>\n",
       "</table>\n",
       "</div>"
      ],
      "text/plain": [
       "      model name  stratified loss type rank      loss  num epochs  no params  \\\n",
       "1           null       False      test  all  4.962845         0.0        0.0   \n",
       "14         fixed       False      test  all  4.060420       137.0      155.0   \n",
       "27   strat fixed        True      test  all  3.974716       151.0     1550.0   \n",
       "40        linear       False      test  all  3.483318       163.0      168.0   \n",
       "53  strat linear        True      test  all  3.331368       183.0     1680.0   \n",
       "66           cdm       False      test  all  2.943985       293.0     3268.0   \n",
       "79     strat cdm        True      test  all  2.859413       434.0    32680.0   \n",
       "92        nested       False      test  all  3.449600       187.0      175.0   \n",
       "\n",
       "     model  \n",
       "1     null  \n",
       "14   fixed  \n",
       "27   fixed  \n",
       "40  linear  \n",
       "53  linear  \n",
       "66     cdm  \n",
       "79     cdm  \n",
       "92  nested  "
      ]
     },
     "execution_count": 115,
     "metadata": {},
     "output_type": "execute_result"
    }
   ],
   "source": [
    "overall_results[overall_results['loss type']=='test']"
   ]
  },
  {
   "cell_type": "code",
   "execution_count": 116,
   "metadata": {
    "tags": []
   },
   "outputs": [
    {
     "name": "stderr",
     "output_type": "stream",
     "text": [
      "/tmp/ipykernel_2964353/3134136167.py:34: UserWarning: FixedFormatter should only be used together with FixedLocator\n",
      "  ax[0].set_xticklabels(['null', 'fixed', 'fixed, strat.', 'linear', 'linear, strat.', 'CDM', 'CDM, strat.', 'nested'], fontdict={'horizontalalignment': 'right'})\n"
     ]
    },
    {
     "data": {
      "image/png": "[encoded data removed]",
      "text/plain": [
       "<Figure size 864x338.4 with 2 Axes>"
      ]
     },
     "metadata": {
      "needs_background": "light"
     },
     "output_type": "display_data"
    }
   ],
   "source": [
    "custom_lines_0 = [Line2D([0], [0], color=sns.light_palette(palette[0], n_colors=5)[3], linestyle='-', marker='X', lw=2),\n",
    "                  Line2D([0], [0], color=sns.light_palette(palette[0], n_colors=5)[-1], linestyle='-', marker='o', lw=2)]\n",
    "custom_lines_1 = [Line2D([0], [0], color=palette[0], linestyle='-', marker='o', lw=2),\n",
    "                  Line2D([0], [0], color=palette[1], linestyle='--', marker='o', lw=2),\n",
    "                  Line2D([0], [0], color=palette[1], linestyle='-', marker='o', lw=2),\n",
    "                  Line2D([0], [0], color=palette[2], linestyle='--', marker='o', lw=2),\n",
    "                  Line2D([0], [0], color=palette[2], linestyle='-', marker='o', lw=2),\n",
    "                  Line2D([0], [0], color=palette[3], linestyle='--', marker='o', lw=2),\n",
    "                  Line2D([0], [0], color=palette[3], linestyle='-', marker='o', lw=2),\n",
    "                  Line2D([0], [0], color=palette[4], linestyle='-', marker='o', lw=2)]\n",
    "\n",
    "fig, ax = plt.subplots(1,2,figsize=(12,4.7),sharey=True)\n",
    "sns.scatterplot(data=overall_results[(overall_results['loss type']=='train')], x='model name', y='loss', \n",
    "                hue='model', marker='X', s=50, alpha=0.8, palette=palette, ax=ax[0])\n",
    "sns.scatterplot(data=overall_results[(overall_results['loss type']=='test')], x='model name', y='loss', \n",
    "                hue='model', marker='o', palette=palette, ax=ax[0])\n",
    "ytrain=np.array([overall_results[(overall_results['model name']==model)&\n",
    "                                 (overall_results['loss type']=='train')]['loss'].values for model in model_names]).flatten()\n",
    "ytest=np.array([overall_results[(overall_results['model name']==model)&\n",
    "                                (overall_results['loss type']=='test')]['loss'].values for model in model_names]).flatten()\n",
    "sns.lineplot(x=[1,2], y=[ytrain[1], ytrain[2]], color=sns.light_palette(palette[1], n_colors=5)[3], ax=ax[0])\n",
    "sns.lineplot(x=[1,2], y=[ytest[1], ytest[2]], color=palette[1], ax=ax[0])\n",
    "sns.lineplot(x=[3,4], y=[ytrain[3], ytrain[4]], color=sns.light_palette(palette[2], n_colors=5)[3], ax=ax[0])\n",
    "sns.lineplot(x=[3,4], y=[ytest[3], ytest[4]], color=palette[2], ax=ax[0])\n",
    "sns.lineplot(x=[5,6], y=[ytrain[5], ytrain[6]], color=sns.light_palette(palette[3], n_colors=5)[3], ax=ax[0])\n",
    "sns.lineplot(x=[5,6], y=[ytest[5], ytest[6]], color=palette[3], ax=ax[0])\n",
    "\n",
    "sns.lineplot(data=rank_results[(rank_results['loss type']=='test')], \n",
    "             x='rank', y='loss', hue='model', style='stratified', palette=palette, marker='o', ax=ax[1])\n",
    "\n",
    "ax[0].set_ylabel('NLL')\n",
    "ax[0].set_xlabel('Model')\n",
    "ax[0].tick_params(axis='x', labelrotation = 45)\n",
    "ax[0].set_xticklabels(['null', 'fixed', 'fixed, strat.', 'linear', 'linear, strat.', 'CDM', 'CDM, strat.', 'nested'], fontdict={'horizontalalignment': 'right'})\n",
    "ax[0].legend(custom_lines_0, ['train (2017-18)', \n",
    "                              'test (2018-19)'])\n",
    "ax[1].set_xlabel(r'Position, $k$')\n",
    "ax[1].set_xticks([0,1,2,3,4])\n",
    "ax[1].set_xticklabels([1,2,3,4,5])\n",
    "ax[1].legend(custom_lines_1, ['null', 'fixed', 'fixed, strat.', 'linear', 'linear, strat.', 'CDM', 'CDM, strat.', 'nested'], loc=(1.02, 0.42))\n",
    "fig.tight_layout()\n",
    "fig.savefig('../Figs/nll_losses.pdf', format='pdf', bbox_inches='tight')"
   ]
  },
  {
   "cell_type": "markdown",
   "metadata": {
    "jp-MarkdownHeadingCollapsed": true,
    "tags": []
   },
   "source": [
    "## Figures 4 & 11: Comparison w/ Nested"
   ]
  },
  {
   "cell_type": "code",
   "execution_count": 236,
   "metadata": {},
   "outputs": [],
   "source": [
    "sample_student =  888006603\n",
    "sample_student_id = student_codex_test.index(888006603)\n",
    "top_choice = '420-MS-KG'\n",
    "top_choice_id = program_codex.index(top_choice)\n",
    "\n",
    "choice_set = list(np.arange(num_programs))\n",
    "choice_set.remove(top_choice_id)\n",
    "choice_set.append(num_programs)\n",
    "x1 = t.Tensor(np.vstack([np.arange(num_programs)[None,:], np.array(choice_set)[None,:]])).long()\n",
    "x2 = np.full((2,num_programs), fill_value=num_programs)\n",
    "x2[1,0] = top_choice_id\n",
    "x = t.Tensor(np.dstack([x1,x2])).long()\n",
    "x_extra = t.tensor([[sample_student_id, num_programs, 0],[sample_student_id, num_programs-1, 1]])\n",
    "likelihoods = np.exp(model_dict['linear'].forward(x, x_extra, X_test).detach().numpy()), np.exp(model_dict['nested'].forward(x, x_extra, X_test).detach().numpy()), np.exp(model_dict['cdm'].forward(x, x_extra, X_test).detach().numpy())\n",
    "for likelihood in likelihoods:\n",
    "    second_row = list(likelihood[1,:])\n",
    "    second_row.insert(top_choice_id, 0.0)\n",
    "    likelihood[1,:] = np.array(second_row[:-1])"
   ]
  },
  {
   "cell_type": "code",
   "execution_count": 237,
   "metadata": {},
   "outputs": [
    {
     "data": {
      "text/html": [
       "<div>\n",
       "<style scoped>\n",
       "    .dataframe tbody tr th:only-of-type {\n",
       "        vertical-align: middle;\n",
       "    }\n",
       "\n",
       "    .dataframe tbody tr th {\n",
       "        vertical-align: top;\n",
       "    }\n",
       "\n",
       "    .dataframe thead th {\n",
       "        text-align: right;\n",
       "    }\n",
       "</style>\n",
       "<table border=\"1\" class=\"dataframe\">\n",
       "  <thead>\n",
       "    <tr style=\"text-align: right;\">\n",
       "      <th></th>\n",
       "      <th>Model</th>\n",
       "      <th>Program</th>\n",
       "      <th>Nest Membership</th>\n",
       "      <th>Position</th>\n",
       "      <th>Probability</th>\n",
       "    </tr>\n",
       "  </thead>\n",
       "  <tbody>\n",
       "    <tr>\n",
       "      <th>0</th>\n",
       "      <td>linear</td>\n",
       "      <td>413-GE-KG</td>\n",
       "      <td>General Education</td>\n",
       "      <td>top choice</td>\n",
       "      <td>0.010441</td>\n",
       "    </tr>\n",
       "    <tr>\n",
       "      <th>1</th>\n",
       "      <td>linear</td>\n",
       "      <td>413-SA-KG</td>\n",
       "      <td>Special Education</td>\n",
       "      <td>top choice</td>\n",
       "      <td>0.000028</td>\n",
       "    </tr>\n",
       "    <tr>\n",
       "      <th>2</th>\n",
       "      <td>linear</td>\n",
       "      <td>420-GE-KG</td>\n",
       "      <td>General Education</td>\n",
       "      <td>top choice</td>\n",
       "      <td>0.017339</td>\n",
       "    </tr>\n",
       "    <tr>\n",
       "      <th>3</th>\n",
       "      <td>linear</td>\n",
       "      <td>420-MS-KG</td>\n",
       "      <td>Special Education</td>\n",
       "      <td>top choice</td>\n",
       "      <td>0.000063</td>\n",
       "    </tr>\n",
       "    <tr>\n",
       "      <th>4</th>\n",
       "      <td>linear</td>\n",
       "      <td>420-SE-KG</td>\n",
       "      <td>Spanish Language</td>\n",
       "      <td>top choice</td>\n",
       "      <td>0.006944</td>\n",
       "    </tr>\n",
       "  </tbody>\n",
       "</table>\n",
       "</div>"
      ],
      "text/plain": [
       "    Model    Program    Nest Membership    Position  Probability\n",
       "0  linear  413-GE-KG  General Education  top choice     0.010441\n",
       "1  linear  413-SA-KG  Special Education  top choice     0.000028\n",
       "2  linear  420-GE-KG  General Education  top choice     0.017339\n",
       "3  linear  420-MS-KG  Special Education  top choice     0.000063\n",
       "4  linear  420-SE-KG   Spanish Language  top choice     0.006944"
      ]
     },
     "execution_count": 237,
     "metadata": {},
     "output_type": "execute_result"
    }
   ],
   "source": [
    "probs_df_list = []\n",
    "[probs_df_list.extend(zip([model]*likelihood.size, \n",
    "                          program_codex+program_codex, \n",
    "                          list(program_attributes_test.loc[program_codex, 'nest_membership'].values)+list(program_attributes_test.loc[program_codex, 'nest_membership'].values), \n",
    "                          ['top choice']*num_programs+['second choice']*num_programs, \n",
    "                          likelihood.flatten())) for model, likelihood in zip(['linear', 'nested', 'cdm'], likelihoods)]\n",
    "probs_df = pd.DataFrame(probs_df_list, columns=['Model', 'Program', 'Nest Membership', 'Position', 'Probability'])\n",
    "nest_order = ['Korean Language','Japanese Language','Filipino Language','Chinese Language','Spanish Language','General Education','Special Education']\n",
    "probs_df['Nest Membership'] = pd.Categorical(probs_df['Nest Membership'], nest_order)\n",
    "probs_df.head()"
   ]
  },
  {
   "cell_type": "code",
   "execution_count": 240,
   "metadata": {
    "tags": []
   },
   "outputs": [
    {
     "data": {
      "image/png": "[encoded data removed]",
      "text/plain": [
       "<Figure size 1440x864 with 3 Axes>"
      ]
     },
     "metadata": {
      "needs_background": "light"
     },
     "output_type": "display_data"
    }
   ],
   "source": [
    "fig, ax = plt.subplots(3,1,figsize=(20,12),sharey=True,sharex=True)\n",
    "sns.barplot(data = probs_df[(probs_df.Model=='linear')], x='Program', order=probs_df[(probs_df.Model=='linear')&(probs_df.Position=='top choice')].sort_values(by=['Nest Membership', 'Probability'], ascending=False).set_index('Program').index, \n",
    "            y='Probability', hue='Position', palette=sns.light_palette(palette[2], n_colors=5)[1:5:3], ax=ax[0])\n",
    "sns.barplot(data = probs_df[(probs_df.Model=='nested')], x='Program', order=probs_df[(probs_df.Model=='nested')&(probs_df.Position=='top choice')].sort_values(by=['Nest Membership', 'Probability'], ascending=False).set_index('Program').index, \n",
    "            y='Probability', hue='Position', palette=sns.light_palette(palette[-1], n_colors=5)[1:5:3], ax=ax[1])\n",
    "sns.barplot(data = probs_df[(probs_df.Model=='cdm')], x='Program', order=probs_df[(probs_df.Model=='cdm')&(probs_df.Position=='top choice')].sort_values(by=['Nest Membership', 'Probability'], ascending=False).set_index('Program').index,\n",
    "            y='Probability', hue='Position', palette=sns.light_palette(palette[3], n_colors=5)[1:5:3], ax=ax[2])\n",
    "nest_value_counts = probs_df[(probs_df.Model=='linear')&(probs_df.Position=='top choice')]['Nest Membership'].value_counts()\n",
    "for i in range(3):\n",
    "    ax[i].set_yscale('log')\n",
    "    # ax[i].set_ylim(1e-6,1.0)\n",
    "    ax[i].set_xlabel('')\n",
    "    ax[i].axvline(x=nest_value_counts.loc[nest_order[-1]]-0.5, color='k', linewidth=1)\n",
    "    ax[i].axvline(x=nest_value_counts.loc[nest_order[-2:]].sum()-0.5, color='k', linewidth=1)\n",
    "    ax[i].axvline(x=nest_value_counts.loc[nest_order[-3:]].sum()-0.5, color='k', linewidth=1)\n",
    "    ax[i].axvline(x=nest_value_counts.loc[nest_order[-4:]].sum()-0.5, color='k', linewidth=1)\n",
    "    ax[i].axvline(x=nest_value_counts.loc[nest_order[-5:]].sum()-0.5, color='k', linewidth=1)\n",
    "    ax[i].axvline(x=nest_value_counts.loc[nest_order[-6:]].sum()-0.5, color='k', linewidth=1)\n",
    "    ax[i].legend(loc='upper left', ncol=2)\n",
    "ax[0].set_title(r'Linear')\n",
    "ax[1].set_title(r'Nested')\n",
    "ax[2].set_title(r'CDM')\n",
    "ax[2].set_xticks(ticks = [nest_value_counts.loc[nest_order[-1]]//2, \n",
    "                          nest_value_counts.loc[nest_order[-1]]+nest_value_counts.loc[nest_order[-2]]//2, \n",
    "                          nest_value_counts.loc[nest_order[-2:]].sum()+nest_value_counts.loc[nest_order[-3]]//2,\n",
    "                          nest_value_counts.loc[nest_order[-3:]].sum()+nest_value_counts.loc[nest_order[-4]]//2,\n",
    "                          nest_value_counts.loc[nest_order[-4:]].sum()+nest_value_counts.loc[nest_order[-5]]//2,\n",
    "                          nest_value_counts.loc[nest_order[-5:]].sum()+nest_value_counts.loc[nest_order[-6]]//2,\n",
    "                          nest_value_counts.loc[nest_order[-6:]].sum()+nest_value_counts.loc[nest_order[-7]]//2],\n",
    "                labels = nest_order[::-1])\n",
    "ax[2].set_xlabel('Program')\n",
    "ax[2].set_xticklabels(ax[2].get_xticklabels(), rotation=45, fontdict={'horizontalalignment':'right'})\n",
    "plt.tight_layout()\n",
    "fig.savefig('../Figs/nested_probabilities.pdf', format='pdf', bbox_inches='tight')"
   ]
  },
  {
   "cell_type": "code",
   "execution_count": 239,
   "metadata": {
    "tags": []
   },
   "outputs": [
    {
     "data": {
      "image/png": "[encoded data removed]",
      "text/plain": [
       "<Figure size 432x648 with 3 Axes>"
      ]
     },
     "metadata": {
      "needs_background": "light"
     },
     "output_type": "display_data"
    }
   ],
   "source": [
    "fig, ax = plt.subplots(3,1,figsize=(6,9),sharey=True,sharex=True)\n",
    "xaxis_order = probs_df[(probs_df.Model=='linear')&(probs_df.Position=='top choice')&(probs_df['Nest Membership']=='Special Education')].sort_values(by='Probability', ascending=False).set_index('Program').index\n",
    "sns.barplot(data = probs_df[(probs_df.Model=='linear')&(probs_df['Nest Membership']=='Special Education')], \n",
    "            x='Program', order=xaxis_order, y='Probability', hue='Position', \n",
    "            palette=sns.light_palette(palette[2], n_colors=5)[1:5:3], ax=ax[0])\n",
    "sns.barplot(data = probs_df[(probs_df.Model=='nested')&(probs_df['Nest Membership']=='Special Education')], \n",
    "            x='Program', order=xaxis_order, y='Probability', hue='Position', \n",
    "            palette=sns.light_palette(palette[-1], n_colors=5)[1:5:3], ax=ax[1])\n",
    "sns.barplot(data = probs_df[(probs_df.Model=='cdm')&(probs_df['Nest Membership']=='Special Education')], \n",
    "            x='Program', order=xaxis_order, y='Probability', hue='Position', \n",
    "            palette=sns.light_palette(palette[3], n_colors=5)[1:5:3], ax=ax[2])\n",
    "for i in range(3):\n",
    "    ax[i].set_yscale('log')\n",
    "    ax[i].set_ylim(1e-6,1.0)\n",
    "    ax[i].set_xlabel('')\n",
    "    ax[i].legend(loc='upper left', ncol=2)\n",
    "ax[0].set_title(r'Linear')\n",
    "ax[1].set_title(r'Nested')\n",
    "ax[2].set_title(r'CDM')\n",
    "ax[2].set_xlabel('Special Education Program')\n",
    "ax[2].set_xticklabels([])\n",
    "plt.tight_layout()\n",
    "fig.savefig('../Figs/nested_probabilities_speced.pdf', format='pdf', bbox_inches='tight')"
   ]
  },
  {
   "cell_type": "markdown",
   "metadata": {
    "jp-MarkdownHeadingCollapsed": true,
    "tags": []
   },
   "source": [
    "## Figure 2: Top-K CDM"
   ]
  },
  {
   "cell_type": "code",
   "execution_count": null,
   "metadata": {
    "tags": []
   },
   "outputs": [],
   "source": [
    "def top_k_cdm(k, num_ranks=5):\n",
    "    result=[]    \n",
    "    train = pd.concat([df for df in folds])\n",
    "\n",
    "    train_choices, train_st_codex, train_prog_codex, train_ctip_codex, train_ballot = dp.prep_dataset(train, program_attributes_train)\n",
    "    X_train = generate_covariate_matrix(program_attributes_train, train_st_codex, train_prog_codex, train_ctip_codex)\n",
    "    (xtest, xltest, ytest), test_st_codex, test_ctip_codex = dp.prep_valset(dataset_test, program_attributes_test, train_prog_codex)\n",
    "    X_test = generate_covariate_matrix(program_attributes_test, test_st_codex, train_prog_codex, test_ctip_codex)\n",
    "    \n",
    "    kwargs={'fixed_effects': True,\n",
    "            'linear_terms': True,\n",
    "            'covariates': X_train,\n",
    "            'context': True,\n",
    "            'embedding_dim': 10,\n",
    "            'top_k': k,\n",
    "            'num_ranks': num_ranks}\n",
    "    model, tr_loss, num_epochs, tr_losses, _ = sp.train_stratified(ds=train_choices, num_items=len(train_prog_codex), epochs=1000, lr=1e-3, wd=1e-5, verbose=True, **kwargs)\n",
    "    no_params = sum([np.prod(p.size()) for p in model.parameters() if p.requires_grad])    \n",
    "    tr_losses = np.array(tr_losses)\n",
    "    result.append(['cdm', False, k, 'train', 'all', float(tr_loss), num_epochs, no_params])\n",
    "\n",
    "    ytest_hat = model.forward(xtest, xltest, X_test)\n",
    "    test_loss, test_loss_terms = model.loss_func(ytest_hat, ytest, xltest, train=False)\n",
    "    result.append(['cdm', False, k, 'test', 'all', float(test_loss), num_epochs, no_params])\n",
    "    for j in range(num_ranks):\n",
    "        result.append(['cdm', False, k, 'train', j, float(tr_losses[-1, j]), num_epochs, no_params])\n",
    "        result.append(['cdm', False, k, 'test', j, float(test_loss_terms[j]), num_epochs, no_params])\n",
    "    return result"
   ]
  },
  {
   "cell_type": "code",
   "execution_count": null,
   "metadata": {
    "tags": []
   },
   "outputs": [],
   "source": [
    "top_k_cdm_results = Parallel(n_jobs=-4)(delayed(top_k_cdm)(k) for k in np.arange(5)+1)\n",
    "top_k_cdm_df = pd.DataFrame([subitem for result in top_k_cdm_results for subitem in result], \n",
    "                             columns=['model name', 'stratified', 'k', 'loss type', 'rank', 'loss', 'num epochs', 'no params'])"
   ]
  },
  {
   "cell_type": "code",
   "execution_count": null,
   "metadata": {
    "tags": []
   },
   "outputs": [],
   "source": [
    "temp_palette = [palette[3],sns.light_palette(palette[3], n_colors=5)[2]]\n",
    "custom_lines = [Line2D([0], [0], color=temp_palette[1], linestyle='', marker='X', lw=2),\n",
    "                Line2D([0], [0], color=temp_palette[0], linestyle='', marker='o', lw=2)]\n",
    "\n",
    "fig, ax = plt.subplots(1, 1)\n",
    "sns.scatterplot(data=overall_results[overall_results['model name']=='linear'], \n",
    "                x=0, y='loss', hue='loss type', style='loss type', palette=temp_palette, legend=False, ax=ax)\n",
    "sns.scatterplot(data=top_k_cdm_df[top_k_cdm_df['rank']=='all'], \n",
    "                x='k', y='loss', hue='loss type', style='loss type', palette=temp_palette, ax=ax)\n",
    "sns.scatterplot(data=overall_results[overall_results['model name']=='cdm'], \n",
    "                x=8, y='loss', hue='loss type', style='loss type', palette=temp_palette, legend=False, ax=ax)\n",
    "ax.set_ylabel('NLL')\n",
    "ax.set_ylim(2.8,3.6)\n",
    "ax.set_xlabel(r'Position, $k$')\n",
    "ax.legend(custom_lines, ['train (2017-18)', 'test (2018-19)'])\n",
    "ax.set_xticks([0,1,2,3,4,5,8])\n",
    "ax.set_xticklabels([0,1,2,3,4,5,r'm'])\n",
    "fig.savefig('../Figs/top_k_cdm.pdf', format='pdf', bbox_inches='tight')"
   ]
  },
  {
   "cell_type": "markdown",
   "metadata": {
    "jp-MarkdownHeadingCollapsed": true,
    "tags": []
   },
   "source": [
    "# Figures 5 & 12: Accuracy"
   ]
  },
  {
   "cell_type": "markdown",
   "metadata": {
    "jp-MarkdownHeadingCollapsed": true,
    "tags": []
   },
   "source": [
    "## Figure 5: Accuracy at $k$"
   ]
  },
  {
   "cell_type": "code",
   "execution_count": 62,
   "metadata": {},
   "outputs": [],
   "source": [
    "def generate_DA_inputs(dataset, stud_codex, codex, program_data, compute_travel_times=False):\n",
    "    '''\n",
    "    Must have 'ranked_schools_codex', and 'r1_randomnumber_adjusted' fields in the dataset.\n",
    "    '''\n",
    "    n=len(codex)\n",
    "    assert(dataset.shape[0]==len(stud_codex))\n",
    "    StudPrefs = np.full(fill_value=n, shape=(dataset.shape[0], n))\n",
    "    StudentPrts = np.zeros((dataset.shape[0], n))\n",
    "    for ind, row in dataset.iterrows():\n",
    "        student_id = int(row['student_id'])\n",
    "        programs = row['r1_ranked_programs'] if len(row['r1_ranked_programs'])!=0 else row['r2_ranked_programs'] if len(row['r2_ranked_programs'])!=0 else row['r3_ranked_programs'] if len(row['r3_ranked_programs'])!=0 else row['r4_ranked_programs'] if len(row['r4_ranked_programs'])!= 0 else row['r5_ranked_programs']\n",
    "        StudPrefs[student_id, :len(programs)] = [codex.index(program) for program in programs]\n",
    "        sibling, aaprek, aa = row['sibling'], row['aaprek'], row['idschoolattendance']\n",
    "        sib_programs, aaprek_programs = [], []\n",
    "        [sib_programs.extend(list(program_data[program_data.school_id==school].index.values)) for school in sibling]\n",
    "        index_sibling = [codex.index(program) for program in sib_programs if program in codex]\n",
    "        [aaprek_programs.extend(list(program_data[program_data.school_id==school].index.values)) for school in aaprek]\n",
    "        index_aaprek = [codex.index(program) for program in aaprek_programs if program in codex]\n",
    "        index_aa = [codex.index(program) for program in program_data[program_data.school_id==aa].index.values if program in codex]\n",
    "        '''\n",
    "        Encode priorities as follows:\n",
    "        Sibling  +16\n",
    "        AA Prek  +8\n",
    "        CTIP1    +4\n",
    "        AA       +2\n",
    "        Tiebreak +random number\n",
    "        '''\n",
    "        StudentPrts[student_id, index_sibling] += 16.\n",
    "        StudentPrts[student_id, index_aaprek] += 8.\n",
    "        if row['ctip1']:\n",
    "            StudentPrts[student_id] += 4.\n",
    "        StudentPrts[student_id, index_aa] += 2.\n",
    "    SchoolCaps = program_data.loc[codex, 'capacity'].values\n",
    "    return SchoolCaps, StudentPrts, StudPrefs\n"
   ]
  },
  {
   "cell_type": "code",
   "execution_count": 63,
   "metadata": {},
   "outputs": [
    {
     "name": "stderr",
     "output_type": "stream",
     "text": [
      "/tmp/ipykernel_2964353/1481570219.py:1: SettingWithCopyWarning: \n",
      "A value is trying to be set on a copy of a slice from a DataFrame.\n",
      "Try using .loc[row_indexer,col_indexer] = value instead\n",
      "\n",
      "See the caveats in the documentation: https://pandas.pydata.org/pandas-docs/stable/user_guide/indexing.html#returning-a-view-versus-a-copy\n",
      "  df_test['student_id']=[student_codex_test.index(studid) if studid in student_codex_test else None for studid in df_test['studentno']]\n"
     ]
    }
   ],
   "source": [
    "df_test['student_id']=[student_codex_test.index(studid) if studid in student_codex_test else None for studid in df_test['studentno']]\n",
    "subset_df_test = df_test.dropna(subset=['student_id'])"
   ]
  },
  {
   "cell_type": "code",
   "execution_count": 64,
   "metadata": {
    "tags": []
   },
   "outputs": [],
   "source": [
    "SchoolCaps_test, StudentPrts_test, StudPrefs_test = generate_DA_inputs(subset_df_test, student_codex_test, program_codex, program_attributes_test)"
   ]
  },
  {
   "cell_type": "code",
   "execution_count": 99,
   "metadata": {},
   "outputs": [],
   "source": [
    "def generate_one(i, model_name, model, program_attributes, student_codex, program_codex, ctip_codex, prefs, rank, return_mode=False):\n",
    "    '''\n",
    "    Generates rank-position choice given prior rank choices in prefs.\n",
    "    '''\n",
    "    random.seed(model_name+str(i))\n",
    "    n_students = len(student_codex)\n",
    "    n_programs = len(program_codex)\n",
    "    \n",
    "    preferences = copy.deepcopy(prefs)\n",
    "    next_open_slot = np.argmax(preferences==n_programs, axis=1)\n",
    "    assert(max(next_open_slot)<=rank)\n",
    "    rows_to_sample = (next_open_slot==rank)\n",
    "    X_sample = generate_covariate_matrix(program_attributes, student_codex, program_codex, ctip_codex)\n",
    "    \n",
    "    if model_name=='null':\n",
    "        probs = np.divide(np.ones((n_students, n_programs+1)), (preferences==n_programs).sum(1)[:,None])\n",
    "        probs[np.arange(n_students)[:,None], preferences]=0.\n",
    "        preferences[rows_to_sample, rank] = probs[rows_to_sample,:].argmax(axis=1) if return_mode else t.multinomial(t.Tensor(probs)[rows_to_sample,:], num_samples=1).flatten()\n",
    "        return model_name, preferences\n",
    "    elif model_name == 'nested':\n",
    "        num_agents, num_alternatives, num_features = X_sample.shape\n",
    "        pad_mat = np.zeros((num_agents, num_features), dtype=np.float32)\n",
    "        X_sample = np.hstack([X_sample, pad_mat[:,None,:]]) # add zeros matrix to second dimension of covariates (column-wise)\n",
    "\n",
    "        X_sample = t.from_numpy(X_sample)\n",
    "        x = t.from_numpy(np.tile(np.arange(n_programs+1)[None,:], (n_students,1)))\n",
    "        x[np.arange(n_students)[:,None], preferences[:,:rank]] = n_programs\n",
    "        \n",
    "        x_extra = t.from_numpy(np.arange(n_students))\n",
    "        C = t.ones((n_students, n_programs+1))\n",
    "        C[np.arange(n_students)[:,None], preferences[:,:rank]]=0.\n",
    "        probs = model.compute_nested_probabilities(x[:,:-1], x_extra, C[:,:-1], X_sample, sampling=True)\n",
    "        probs = t.mul(probs,C[:,:-1])\n",
    "        if t.any(t.all(probs<=0., dim=1)):\n",
    "            print('Found all 0s row')\n",
    "            print(np.where(t.all(probs<=0., dim=1)))\n",
    "        preferences[rows_to_sample,rank] = (probs[rows_to_sample]).argmax(axis=1).flatten() if return_mode else t.multinomial(probs[rows_to_sample],num_samples=1).flatten()\n",
    "        return model_name, preferences\n",
    "    else:\n",
    "        k=model.k\n",
    "        utilities = t.zeros((n_students, n_programs))\n",
    "        if model.fixed_effects:\n",
    "            utilities[rows_to_sample] += model.logits[min(k-1, rank)].weight.detach().numpy()[:-1].flatten()[None,:]\n",
    "        else: \n",
    "            pass\n",
    "        if model.linear_terms:\n",
    "            beta = model.beta[min(k-1, rank)].weight.detach().numpy().flatten()\n",
    "            utilities[rows_to_sample]+=X_sample[rows_to_sample]@beta #n_stud x n_prog\n",
    "        else: \n",
    "            pass\n",
    "        if (rank>0) & model.context:\n",
    "            T = model.target_embeddings[min(k-1, rank)].weight.detach().numpy()[:-1,:] # num_programs, embedding_dim\n",
    "            C = model.context_embeddings[min(k-1, rank)](preferences[rows_to_sample,:rank]).detach().numpy() # num_students, rank, embedding_dim\n",
    "            avg_C = C.mean(axis=-2) # num_students, embedding_dim\n",
    "            avg_interactions = (avg_C @ T.T)\n",
    "            utilities[rows_to_sample] += avg_interactions\n",
    "        else:\n",
    "            pass\n",
    "        utilities = np.concatenate((utilities, np.full((n_students, 1), fill_value=-np.inf)), axis=1)\n",
    "        utilities[np.arange(n_students)[:,None], preferences[:,:rank]]=-np.inf\n",
    "        viable_softmax_probs = softmax(utilities[rows_to_sample], axis=1)\n",
    "        preferences[rows_to_sample,rank] = viable_softmax_probs.argmax(axis=1) if return_mode else t.multinomial(t.Tensor(viable_softmax_probs), num_samples=1).flatten()\n",
    "        return model_name, preferences\n",
    "\n"
   ]
  },
  {
   "cell_type": "code",
   "execution_count": 100,
   "metadata": {
    "tags": []
   },
   "outputs": [
    {
     "name": "stderr",
     "output_type": "stream",
     "text": [
      "100%|██████████| 10/10 [16:18<00:00, 97.88s/it]\n"
     ]
    }
   ],
   "source": [
    "num_samples=100\n",
    "input_prefs = np.full((len(student_codex_test), num_programs), fill_value=num_programs)\n",
    "modal_results = {rank: [] for rank in range(10)}\n",
    "sample_results = {rank: [] for rank in range(10)}\n",
    "for rank in tqdm(range(10)):\n",
    "    input_prefs[:,:rank] = StudPrefs_test[:,:rank]\n",
    "    sample_results[rank]=Parallel(n_jobs=-4)(delayed(generate_one)(k, model_name, model_dict[model_name], program_attributes_test, student_codex_test, program_codex, \n",
    "                                                                  ctip_codex_test, input_prefs, rank) \n",
    "                                            for model_name in model_names\n",
    "                                            for k in range(num_samples))\n",
    "    modal_results[rank]=Parallel(n_jobs=-4)(delayed(generate_one)(0, model_name, model_dict[model_name], program_attributes_test, student_codex_test, program_codex, \n",
    "                                                                  ctip_codex_test, input_prefs, rank, return_mode=True) \n",
    "                                                 for model_name in model_names)"
   ]
  },
  {
   "cell_type": "code",
   "execution_count": 101,
   "metadata": {
    "tags": []
   },
   "outputs": [],
   "source": [
    "results_modal = {i: {model: [] for model in model_names} for i in range(10)}\n",
    "results_sample = {i: {model: [] for model in model_names} for i in range(10)}\n",
    "for i in range(10):\n",
    "    [results_modal[i][name].append(pref) for name, pref in modal_results[i]]\n",
    "    [results_sample[i][name].append(pref) for name, pref in sample_results[i]]"
   ]
  },
  {
   "cell_type": "code",
   "execution_count": 102,
   "metadata": {},
   "outputs": [],
   "source": [
    "def agreement(rank, model_name, array):\n",
    "    inds = (array[:, rank]!=num_programs) & (StudPrefs_test[:, rank]!=num_programs)\n",
    "    return rank, model_name, (array[inds,rank]==StudPrefs_test[inds,rank]).mean(), sum(inds)\n",
    "\n",
    "agreement_results=Parallel(n_jobs=-4)(delayed(agreement)(rank, model_name, array)\n",
    "                                        for rank in range(10) \n",
    "                                        for model_name in model_names \n",
    "                                        for array in results_modal[rank][model_name])\n",
    "modal_agreements=pd.DataFrame(agreement_results, columns=['rank position', 'model name', 'agreement w true', 'no. eligible ballots'])"
   ]
  },
  {
   "cell_type": "code",
   "execution_count": 103,
   "metadata": {},
   "outputs": [],
   "source": [
    "modal_agreements[['model', 'stratified']] = [[name.split()[-1], 'strat' in name] for name in modal_agreements['model name']]"
   ]
  },
  {
   "cell_type": "code",
   "execution_count": 231,
   "metadata": {
    "tags": []
   },
   "outputs": [
    {
     "data": {
      "image/png": "[encoded data removed]",
      "text/plain": [
       "<Figure size 432x288 with 1 Axes>"
      ]
     },
     "metadata": {
      "needs_background": "light"
     },
     "output_type": "display_data"
    }
   ],
   "source": [
    "custom_lines = [Line2D([0], [0], color=palette[0], linestyle='-', marker='o', lw=2),\n",
    "                Line2D([0], [0], color=palette[1], linestyle='--', marker='o', lw=2),\n",
    "                Line2D([0], [0], color=palette[1], linestyle='-', marker='o', lw=2),\n",
    "                Line2D([0], [0], color=palette[2], linestyle='--', marker='o', lw=2),\n",
    "                Line2D([0], [0], color=palette[2], linestyle='-', marker='o', lw=2),\n",
    "                Line2D([0], [0], color=palette[4], linestyle='-', marker='o', lw=2),\n",
    "                Line2D([0], [0], color=palette[3], linestyle='--', marker='o', lw=2),\n",
    "                Line2D([0], [0], color=palette[3], linestyle='-', marker='o', lw=2)]\n",
    "fig, ax=plt.subplots(1,1)\n",
    "sns.lineplot(data=modal_agreements, x='rank position', y='agreement w true', hue='model', style='stratified', palette=palette, marker='o', ax=ax)\n",
    "ax.set_xticks(np.arange(10), np.arange(10)+1)\n",
    "ax.legend(custom_lines, ['null', \n",
    "                         'fixed', 'fixed, strat.', \n",
    "                         'linear', 'linear, strat.',\n",
    "                         'nested',\n",
    "                         'CDM', 'CDM, strat.'], loc='upper right')\n",
    "ax.set_ylabel('Accuracy')\n",
    "ax.set_xlabel(r'Position, $k$')\n",
    "fig.savefig('../Figs/accuracy_at_k.pdf', format='pdf', bbox_inches='tight')"
   ]
  },
  {
   "cell_type": "markdown",
   "metadata": {
    "jp-MarkdownHeadingCollapsed": true,
    "tags": []
   },
   "source": [
    "## Figure 12: By subpopulation"
   ]
  },
  {
   "cell_type": "code",
   "execution_count": 106,
   "metadata": {},
   "outputs": [],
   "source": [
    "school_codex = program_attributes_test.loc[program_codex, 'school_id'].unique()"
   ]
  },
  {
   "cell_type": "code",
   "execution_count": 107,
   "metadata": {},
   "outputs": [
    {
     "name": "stdout",
     "output_type": "stream",
     "text": [
      "AA:\t\t 1.0\n",
      "Sibling:\t 0.3002347417840376\n",
      "CTIP1:\t\t 0.16676628810520025\n",
      "AAPrek:\t\t 0.034976525821596244\n",
      "Lang First:\t 0.336150234741784\n",
      "GenEd First:\t 0.6525821596244131\n",
      "SpecEd First:\t 0.011267605633802818\n"
     ]
    }
   ],
   "source": [
    "reindexed_df = subset_df_test.set_index('studentno').loc[student_codex_test]\n",
    "reindexed_df['top_ranked_prog'] = 0\n",
    "for ind, row in reindexed_df.iterrows():\n",
    "    round_idx = row['first_participated_round']\n",
    "    programs = row['r'+str(round_idx)+'_programs']\n",
    "    reindexed_df.loc[ind, 'top_ranked_prog'] = programs[0]\n",
    "those_who_ranked_lang_first = reindexed_df['top_ranked_prog'].isin(program_to_language.keys())\n",
    "those_who_ranked_gened_first = reindexed_df['top_ranked_prog']=='GE'\n",
    "those_who_ranked_speced_first = ~(those_who_ranked_lang_first|those_who_ranked_gened_first)\n",
    "assert(all((those_who_ranked_lang_first|those_who_ranked_gened_first)|those_who_ranked_speced_first))\n",
    "those_with_siblings = (reindexed_df['sibling'].str.len()!=0).values\n",
    "those_with_aaprek = (reindexed_df['aaprek'].str.len()!=0).values\n",
    "those_with_aa = (~reindexed_df['idschoolattendance'].isna()).values\n",
    "print('AA:\\t\\t', those_with_aa.mean())\n",
    "print('Sibling:\\t', those_with_siblings.mean())\n",
    "print('CTIP1:\\t\\t', np.array(ctip_codex).mean())\n",
    "print('AAPrek:\\t\\t', those_with_aaprek.mean())\n",
    "print('Lang First:\\t', those_who_ranked_lang_first.mean())\n",
    "print('GenEd First:\\t', those_who_ranked_gened_first.mean())\n",
    "print('SpecEd First:\\t', those_who_ranked_speced_first.mean())\n"
   ]
  },
  {
   "cell_type": "code",
   "execution_count": 108,
   "metadata": {},
   "outputs": [],
   "source": [
    "def agreement(rank, model_name, array, level='program', subpop=None, subset=None):\n",
    "    if subset is None:\n",
    "        subset=np.full(StudPrefs_test.shape[0], fill_value=True)\n",
    "    inds = subset & (array[:, rank]!=num_programs) & (StudPrefs_test[:, rank]!=num_programs)\n",
    "    if level=='program':\n",
    "        result = (array[inds,rank]==StudPrefs_test[inds,rank]).mean()\n",
    "    elif level=='school':\n",
    "        modal_programs = array[inds,rank]\n",
    "        modal_schools = program_attributes_test.loc[np.array(program_codex)[modal_programs], 'school_id']\n",
    "        true_programs = StudPrefs_test[inds,rank]\n",
    "        true_schools = program_attributes_test.loc[np.array(program_codex)[true_programs], 'school_id']\n",
    "        result = (modal_schools.values==true_schools.values).mean()\n",
    "    else:\n",
    "        return None\n",
    "    return rank, model_name, level, subpop, result, sum(inds)"
   ]
  },
  {
   "cell_type": "code",
   "execution_count": 210,
   "metadata": {},
   "outputs": [],
   "source": [
    "subpop_agreement_results=Parallel(n_jobs=-4)(delayed(agreement)(rank, model_name, array, level, subpop, subset)\n",
    "                                             for model_name in model_names\n",
    "                                             for rank in [0,1,2]\n",
    "                                             for level in ['program', 'school']\n",
    "                                             for array in results_modal[rank][model_name]\n",
    "                                             for subpop, subset in [('AA', those_with_aa),\n",
    "                                                                    ('Sibling', those_with_siblings),\n",
    "                                                                    ('CTIP1', ctip_codex_test), \n",
    "                                                                    ('PreK/TK', those_with_aaprek),\n",
    "                                                                    ('Asian', (reindexed_df.resolved_ethnicity=='Asian').values),\n",
    "                                                                    ('Hisp./Latino', (reindexed_df.resolved_ethnicity=='Hispanic/Latino').values),\n",
    "                                                                    ('N/A', (reindexed_df.resolved_ethnicity=='Decline to State').values),\n",
    "                                                                    ('White', (reindexed_df.resolved_ethnicity=='White').values),\n",
    "                                                                    ('Two or More', (reindexed_df.resolved_ethnicity=='Two or More Races').values),\n",
    "                                                                    ('Black or A.A.', (reindexed_df.resolved_ethnicity=='Black or African American').values),\n",
    "                                                                    ('Gen. Ed.', those_who_ranked_gened_first),\n",
    "                                                                    ('Language', those_who_ranked_lang_first),\n",
    "                                                                    ('Spec. Ed.', those_who_ranked_speced_first)])\n",
    "subpop_modal_agreements = pd.DataFrame(subpop_agreement_results, columns=['rank position', 'model name', 'level', 'subpopulation', 'accuracy', 'no. eligible ballots'])"
   ]
  },
  {
   "cell_type": "code",
   "execution_count": 211,
   "metadata": {},
   "outputs": [],
   "source": [
    "subpop_modal_agreements[['model', 'stratified']] = [[name.split()[-1], 'strat' in name] for name in subpop_modal_agreements['model name']]"
   ]
  },
  {
   "cell_type": "code",
   "execution_count": 232,
   "metadata": {},
   "outputs": [
    {
     "data": {
      "image/png": "[encoded data removed]",
      "text/plain": [
       "<Figure size 864x288 with 3 Axes>"
      ]
     },
     "metadata": {
      "needs_background": "light"
     },
     "output_type": "display_data"
    }
   ],
   "source": [
    "fig, ax = plt.subplots(1,3,sharey=True,figsize=(12,4))\n",
    "data = subpop_modal_agreements[(subpop_modal_agreements.model.isin(['linear', 'cdm', 'nested'])) & (subpop_modal_agreements.level=='program') & (subpop_modal_agreements.subpopulation.isin(['AA', 'Sibling', 'CTIP1', 'PreK/TK']))]\n",
    "sns.scatterplot(data=data[data['rank position']==0], x='subpopulation', y='accuracy', hue='model', style='stratified', palette=palette[2:], s=100, ax=ax[0])\n",
    "sns.scatterplot(data=data[data['rank position']==1], x='subpopulation', y='accuracy', hue='model', style='stratified', palette=palette[2:], s=100, ax=ax[1])\n",
    "sns.scatterplot(data=data[data['rank position']==2], x='subpopulation', y='accuracy', hue='model', style='stratified', palette=palette[2:], s=100, ax=ax[2])\n",
    "ax[0].set_title('Position 1')\n",
    "ax[1].set_title('Position 2')\n",
    "ax[2].set_title('Position 3')\n",
    "ax[0].set_ylabel('Accuracy')\n",
    "for i in range(3):\n",
    "    ax[i].legend().remove()\n",
    "    ax[i].set_xlabel('')\n",
    "    plt.setp(ax[i].get_xticklabels(), rotation=45, ha=\"right\", rotation_mode=\"anchor\", visible=True)\n",
    "custom_points = [Line2D([0], [0], marker='o', color=palette[2], lw=0), \n",
    "                 Line2D([0], [0], marker='x', color=palette[2], lw=0), \n",
    "                 Line2D([0], [0], marker='o', color=palette[3], lw=0), \n",
    "                 Line2D([0], [0], marker='x', color=palette[3], lw=0), \n",
    "                 Line2D([0], [0], marker='o', color=palette[4], lw=0)]\n",
    "ax[2].legend(custom_points, ['linear', 'linear, strat.', 'CDM', 'CDM, strat.', 'nested'])\n",
    "plt.tight_layout()\n",
    "fig.savefig('../Figs/by_subpopulation_priority.pdf', format='pdf', bbox_inches='tight')\n"
   ]
  },
  {
   "cell_type": "code",
   "execution_count": 233,
   "metadata": {},
   "outputs": [
    {
     "data": {
      "image/png": "[encoded data removed]",
      "text/plain": [
       "<Figure size 864x309.6 with 3 Axes>"
      ]
     },
     "metadata": {
      "needs_background": "light"
     },
     "output_type": "display_data"
    }
   ],
   "source": [
    "fig, ax = plt.subplots(1,3,sharey=True,figsize=(12,4.3))\n",
    "data = subpop_modal_agreements[(subpop_modal_agreements.model.isin(['linear', 'cdm', 'nested'])) & (subpop_modal_agreements.level=='program') & (subpop_modal_agreements.subpopulation.isin(['Asian', 'Hisp./Latino', 'N/A', 'White', 'Two or More', 'Black or A.A.']))]\n",
    "sns.scatterplot(data=data[data['rank position']==0], x='subpopulation', y='accuracy', hue='model', style='stratified', palette=palette[2:], s=100, ax=ax[0])\n",
    "sns.scatterplot(data=data[data['rank position']==1], x='subpopulation', y='accuracy', hue='model', style='stratified', palette=palette[2:], s=100, ax=ax[1])\n",
    "sns.scatterplot(data=data[data['rank position']==2], x='subpopulation', y='accuracy', hue='model', style='stratified', palette=palette[2:], s=100, ax=ax[2])\n",
    "ax[0].set_title('Position 1')\n",
    "ax[1].set_title('Position 2')\n",
    "ax[2].set_title('Position 3')\n",
    "ax[0].set_ylabel('Accuracy')\n",
    "for i in range(3):\n",
    "    ax[i].legend().remove()\n",
    "    ax[i].set_xlabel('')\n",
    "    plt.setp(ax[i].get_xticklabels(), rotation=45, ha=\"right\", rotation_mode=\"anchor\", visible=True)\n",
    "ax[2].legend(custom_points, ['linear', 'linear, strat.', 'CDM', 'CDM, strat.', 'nested'])\n",
    "plt.tight_layout()\n",
    "fig.savefig('../Figs/by_subpopulation_demo.pdf', format='pdf', bbox_inches='tight')\n"
   ]
  },
  {
   "cell_type": "code",
   "execution_count": 234,
   "metadata": {},
   "outputs": [
    {
     "data": {
      "image/png": "[encoded data removed]",
      "text/plain": [
       "<Figure size 864x288 with 3 Axes>"
      ]
     },
     "metadata": {
      "needs_background": "light"
     },
     "output_type": "display_data"
    }
   ],
   "source": [
    "fig, ax = plt.subplots(1,3,sharey=True,figsize=(12,4))\n",
    "data = subpop_modal_agreements[(subpop_modal_agreements.model.isin(['linear', 'cdm', 'nested'])) & (subpop_modal_agreements.level=='program') & (subpop_modal_agreements.subpopulation.isin(['Gen. Ed.', 'Language', 'Spec. Ed.']))]\n",
    "sns.scatterplot(data=data[data['rank position']==0], x='subpopulation', y='accuracy', hue='model', style='stratified', palette=palette[2:], s=100, ax=ax[0])\n",
    "sns.scatterplot(data=data[data['rank position']==1], x='subpopulation', y='accuracy', hue='model', style='stratified', palette=palette[2:], s=100, ax=ax[1])\n",
    "sns.scatterplot(data=data[data['rank position']==2], x='subpopulation', y='accuracy', hue='model', style='stratified', palette=palette[2:], s=100, ax=ax[2])\n",
    "ax[0].set_title('Position 1')\n",
    "ax[1].set_title('Position 2')\n",
    "ax[2].set_title('Position 3')\n",
    "ax[0].set_ylabel('Accuracy')\n",
    "for i in range(3):\n",
    "    ax[i].legend().remove()\n",
    "    ax[i].set_xlabel('')\n",
    "    plt.setp(ax[i].get_xticklabels(), rotation=45, ha=\"right\", rotation_mode=\"anchor\", visible=True)\n",
    "ax[2].legend(custom_points, ['linear', 'linear, strat.', 'CDM', 'CDM, strat.', 'nested'])\n",
    "plt.tight_layout()\n",
    "fig.savefig('../Figs/by_subpopulation_firstprog.pdf', format='pdf', bbox_inches='tight')\n"
   ]
  },
  {
   "cell_type": "markdown",
   "metadata": {
    "jp-MarkdownHeadingCollapsed": true,
    "tags": []
   },
   "source": [
    "# Figure 13: Correlation & consistency"
   ]
  },
  {
   "cell_type": "markdown",
   "metadata": {
    "jp-MarkdownHeadingCollapsed": true,
    "tags": []
   },
   "source": [
    "## Kendall's $\\tau$ correlations"
   ]
  },
  {
   "cell_type": "code",
   "execution_count": 159,
   "metadata": {},
   "outputs": [],
   "source": [
    "def generate_full_preferences(i, model_name, model, program_attributes, student_codex, program_codex, ctip_codex):\n",
    "    '''\n",
    "    Generates preferences that are either sampled from the distribution or the modal selection \n",
    "    (highest probability alternative) at each rank position.\n",
    "        - model is of StratifiedLinear class.\n",
    "        - student_codex is in travel_times.index\n",
    "        - program_codex is same as used for training\n",
    "    '''\n",
    "    random.seed(model_name+str(i))\n",
    "    n_students = len(student_codex)\n",
    "    n_programs = len(program_codex)\n",
    "    preferences=t.zeros((n_students, n_programs),dtype=int)\n",
    "    X_sample = generate_covariate_matrix(program_attributes, student_codex, program_codex, ctip_codex)\n",
    "\n",
    "    if model is None:\n",
    "        probs=t.ones((n_students, n_programs))/float(n_programs)\n",
    "        preferences = t.multinomial(probs, num_samples=n_programs, replacement=False)\n",
    "        return model_name, preferences\n",
    "    \n",
    "    elif model_name == 'nested':\n",
    "        num_agents, num_alternatives, num_features = X_sample.shape\n",
    "        pad_mat = np.zeros((num_agents, num_features), dtype=np.float32)\n",
    "        X_sample = np.hstack([X_sample, pad_mat[:,None,:]]) # add zeros matrix to second dimension of covariates (column-wise)\n",
    "\n",
    "        X_sample = t.from_numpy(X_sample)\n",
    "        x = t.from_numpy(np.tile(np.arange(n_programs)[None,:], (n_students,1)))\n",
    "        x_extra = t.from_numpy(np.arange(n_students))\n",
    "        C = t.ones((n_students, n_programs))\n",
    "        for i in range(n_programs):\n",
    "            probs = model.compute_nested_probabilities(x, x_extra, C, X_sample, sampling=True)\n",
    "            selections = t.multinomial(probs, num_samples=1).flatten()\n",
    "            preferences[:,i] = selections\n",
    "            x[np.arange(n_students), selections] = n_programs\n",
    "            C[np.arange(n_students), selections] = 0.\n",
    "        return model_name, preferences\n",
    "    \n",
    "    else:\n",
    "        for i in range(model.k-1):\n",
    "            utilities = t.zeros((n_students, n_programs))\n",
    "            if model.fixed_effects:\n",
    "                logits = model.logits[i].weight.detach().numpy()[:-1].flatten()\n",
    "                utilities += logits[None,:]\n",
    "\n",
    "            if model.linear_terms:\n",
    "                linear = X_sample@model.beta[i].weight.detach().numpy().flatten()\n",
    "                utilities += linear\n",
    "\n",
    "            if (i>0) & model.context:\n",
    "                T = model.target_embeddings[i].weight.detach().numpy()[:-1,:] # num_programs, embedding_dim\n",
    "                C = model.context_embeddings[i](preferences[:,:i]).detach().numpy() # num_students, i, embedding_dim\n",
    "                avg_C = C.mean(axis=-2) # num_students, embedding_dim\n",
    "                avg_interactions = (avg_C @ T.T)\n",
    "                utilities += avg_interactions\n",
    "            utilities[np.arange(n_students)[:,None], preferences[:,:i]]=-np.inf\n",
    "            softmax_probs = softmax(utilities, axis=1)\n",
    "            preferences[:,i] = t.multinomial(softmax_probs, num_samples=1).flatten()\n",
    "\n",
    "        utilities = t.zeros((n_students, n_programs))\n",
    "        if model.fixed_effects:\n",
    "            logits = model.logits[-1].weight.detach().numpy()[:-1].flatten()\n",
    "            utilities += logits[None,:]\n",
    "\n",
    "        if model.linear_terms:\n",
    "            linear = X_sample@model.beta[-1].weight.detach().numpy().flatten()\n",
    "            utilities += linear\n",
    "\n",
    "        if model.context:\n",
    "            T = model.target_embeddings[-1].weight.detach().numpy()[:-1,:] # num_programs, embedding_dim\n",
    "            for i in range(model.k-1,n_programs):\n",
    "                if i>0:\n",
    "                    C = model.context_embeddings[-1](preferences[:,:i]).detach().numpy() # num_students, i, embedding_dim\n",
    "                    avg_C = C.mean(axis=-2) # num_students, embedding_dim\n",
    "                    avg_interactions = (avg_C @ T.T)\n",
    "                    utilities += avg_interactions\n",
    "                utilities[np.arange(n_students)[:,None], preferences[:,:i]] = -np.inf\n",
    "                softmax_probs = softmax(utilities, axis=1)\n",
    "                preferences[:,i] = t.multinomial(softmax_probs, num_samples=1).flatten()\n",
    "        else:\n",
    "            utilities[np.arange(n_students)[:,None], preferences[:,:(model.k-1)]] = -np.inf\n",
    "            softmax_probs = softmax(utilities, axis=1)\n",
    "            preferences[:,(model.k-1):] = t.multinomial(softmax_probs,num_samples=n_programs-(model.k-1),replacement=False)\n",
    "\n",
    "        return model_name, preferences"
   ]
  },
  {
   "cell_type": "code",
   "execution_count": 160,
   "metadata": {
    "collapsed": true,
    "jupyter": {
     "outputs_hidden": true
    },
    "tags": []
   },
   "outputs": [
    {
     "data": {
      "text/plain": [
       "[None,\n",
       " None,\n",
       " None,\n",
       " None,\n",
       " None,\n",
       " None,\n",
       " None,\n",
       " None,\n",
       " None,\n",
       " None,\n",
       " None,\n",
       " None,\n",
       " None,\n",
       " None,\n",
       " None,\n",
       " None,\n",
       " None,\n",
       " None,\n",
       " None,\n",
       " None,\n",
       " None,\n",
       " None,\n",
       " None,\n",
       " None,\n",
       " None,\n",
       " None,\n",
       " None,\n",
       " None,\n",
       " None,\n",
       " None,\n",
       " None,\n",
       " None,\n",
       " None,\n",
       " None,\n",
       " None,\n",
       " None,\n",
       " None,\n",
       " None,\n",
       " None,\n",
       " None,\n",
       " None,\n",
       " None,\n",
       " None,\n",
       " None,\n",
       " None,\n",
       " None,\n",
       " None,\n",
       " None,\n",
       " None,\n",
       " None,\n",
       " None,\n",
       " None,\n",
       " None,\n",
       " None,\n",
       " None,\n",
       " None,\n",
       " None,\n",
       " None,\n",
       " None,\n",
       " None,\n",
       " None,\n",
       " None,\n",
       " None,\n",
       " None,\n",
       " None,\n",
       " None,\n",
       " None,\n",
       " None,\n",
       " None,\n",
       " None,\n",
       " None,\n",
       " None,\n",
       " None,\n",
       " None,\n",
       " None,\n",
       " None,\n",
       " None,\n",
       " None,\n",
       " None,\n",
       " None,\n",
       " None,\n",
       " None,\n",
       " None,\n",
       " None,\n",
       " None,\n",
       " None,\n",
       " None,\n",
       " None,\n",
       " None,\n",
       " None,\n",
       " None,\n",
       " None,\n",
       " None,\n",
       " None,\n",
       " None,\n",
       " None,\n",
       " None,\n",
       " None,\n",
       " None,\n",
       " None,\n",
       " None,\n",
       " None,\n",
       " None,\n",
       " None,\n",
       " None,\n",
       " None,\n",
       " None,\n",
       " None,\n",
       " None,\n",
       " None,\n",
       " None,\n",
       " None,\n",
       " None,\n",
       " None,\n",
       " None,\n",
       " None,\n",
       " None,\n",
       " None,\n",
       " None,\n",
       " None,\n",
       " None,\n",
       " None,\n",
       " None,\n",
       " None,\n",
       " None,\n",
       " None,\n",
       " None,\n",
       " None,\n",
       " None,\n",
       " None,\n",
       " None,\n",
       " None,\n",
       " None,\n",
       " None,\n",
       " None,\n",
       " None,\n",
       " None,\n",
       " None,\n",
       " None,\n",
       " None,\n",
       " None,\n",
       " None,\n",
       " None,\n",
       " None,\n",
       " None,\n",
       " None,\n",
       " None,\n",
       " None,\n",
       " None,\n",
       " None,\n",
       " None,\n",
       " None,\n",
       " None,\n",
       " None,\n",
       " None,\n",
       " None,\n",
       " None,\n",
       " None,\n",
       " None,\n",
       " None,\n",
       " None,\n",
       " None,\n",
       " None,\n",
       " None,\n",
       " None,\n",
       " None,\n",
       " None,\n",
       " None,\n",
       " None,\n",
       " None,\n",
       " None,\n",
       " None,\n",
       " None,\n",
       " None,\n",
       " None,\n",
       " None,\n",
       " None,\n",
       " None,\n",
       " None,\n",
       " None,\n",
       " None,\n",
       " None,\n",
       " None,\n",
       " None,\n",
       " None,\n",
       " None,\n",
       " None,\n",
       " None,\n",
       " None,\n",
       " None,\n",
       " None,\n",
       " None,\n",
       " None,\n",
       " None,\n",
       " None,\n",
       " None,\n",
       " None,\n",
       " None,\n",
       " None,\n",
       " None,\n",
       " None,\n",
       " None,\n",
       " None,\n",
       " None,\n",
       " None,\n",
       " None,\n",
       " None,\n",
       " None,\n",
       " None,\n",
       " None,\n",
       " None,\n",
       " None,\n",
       " None,\n",
       " None,\n",
       " None,\n",
       " None,\n",
       " None,\n",
       " None,\n",
       " None,\n",
       " None,\n",
       " None,\n",
       " None,\n",
       " None,\n",
       " None,\n",
       " None,\n",
       " None,\n",
       " None,\n",
       " None,\n",
       " None,\n",
       " None,\n",
       " None,\n",
       " None,\n",
       " None,\n",
       " None,\n",
       " None,\n",
       " None,\n",
       " None,\n",
       " None,\n",
       " None,\n",
       " None,\n",
       " None,\n",
       " None,\n",
       " None,\n",
       " None,\n",
       " None,\n",
       " None,\n",
       " None,\n",
       " None,\n",
       " None,\n",
       " None,\n",
       " None,\n",
       " None,\n",
       " None,\n",
       " None,\n",
       " None,\n",
       " None,\n",
       " None,\n",
       " None,\n",
       " None,\n",
       " None,\n",
       " None,\n",
       " None,\n",
       " None,\n",
       " None,\n",
       " None,\n",
       " None,\n",
       " None,\n",
       " None,\n",
       " None,\n",
       " None,\n",
       " None,\n",
       " None,\n",
       " None,\n",
       " None,\n",
       " None,\n",
       " None,\n",
       " None,\n",
       " None,\n",
       " None,\n",
       " None,\n",
       " None,\n",
       " None,\n",
       " None,\n",
       " None,\n",
       " None,\n",
       " None,\n",
       " None,\n",
       " None,\n",
       " None,\n",
       " None,\n",
       " None,\n",
       " None,\n",
       " None,\n",
       " None,\n",
       " None,\n",
       " None,\n",
       " None,\n",
       " None,\n",
       " None,\n",
       " None,\n",
       " None,\n",
       " None,\n",
       " None,\n",
       " None,\n",
       " None,\n",
       " None,\n",
       " None,\n",
       " None,\n",
       " None,\n",
       " None,\n",
       " None,\n",
       " None,\n",
       " None,\n",
       " None,\n",
       " None,\n",
       " None,\n",
       " None,\n",
       " None,\n",
       " None,\n",
       " None,\n",
       " None,\n",
       " None,\n",
       " None,\n",
       " None,\n",
       " None,\n",
       " None,\n",
       " None,\n",
       " None,\n",
       " None,\n",
       " None,\n",
       " None,\n",
       " None,\n",
       " None,\n",
       " None,\n",
       " None,\n",
       " None,\n",
       " None,\n",
       " None,\n",
       " None,\n",
       " None,\n",
       " None,\n",
       " None,\n",
       " None,\n",
       " None,\n",
       " None,\n",
       " None,\n",
       " None,\n",
       " None,\n",
       " None,\n",
       " None,\n",
       " None,\n",
       " None,\n",
       " None,\n",
       " None,\n",
       " None,\n",
       " None,\n",
       " None,\n",
       " None,\n",
       " None,\n",
       " None,\n",
       " None,\n",
       " None,\n",
       " None,\n",
       " None,\n",
       " None,\n",
       " None,\n",
       " None,\n",
       " None,\n",
       " None,\n",
       " None,\n",
       " None,\n",
       " None,\n",
       " None,\n",
       " None,\n",
       " None,\n",
       " None,\n",
       " None,\n",
       " None,\n",
       " None,\n",
       " None,\n",
       " None,\n",
       " None,\n",
       " None,\n",
       " None,\n",
       " None,\n",
       " None,\n",
       " None,\n",
       " None,\n",
       " None,\n",
       " None,\n",
       " None,\n",
       " None,\n",
       " None,\n",
       " None,\n",
       " None,\n",
       " None,\n",
       " None,\n",
       " None,\n",
       " None,\n",
       " None,\n",
       " None,\n",
       " None,\n",
       " None,\n",
       " None,\n",
       " None,\n",
       " None,\n",
       " None,\n",
       " None,\n",
       " None,\n",
       " None,\n",
       " None,\n",
       " None,\n",
       " None,\n",
       " None,\n",
       " None,\n",
       " None,\n",
       " None,\n",
       " None,\n",
       " None,\n",
       " None,\n",
       " None,\n",
       " None,\n",
       " None,\n",
       " None,\n",
       " None,\n",
       " None,\n",
       " None,\n",
       " None,\n",
       " None,\n",
       " None,\n",
       " None,\n",
       " None,\n",
       " None,\n",
       " None,\n",
       " None,\n",
       " None,\n",
       " None,\n",
       " None,\n",
       " None,\n",
       " None,\n",
       " None,\n",
       " None,\n",
       " None,\n",
       " None,\n",
       " None,\n",
       " None,\n",
       " None,\n",
       " None,\n",
       " None,\n",
       " None,\n",
       " None,\n",
       " None,\n",
       " None,\n",
       " None,\n",
       " None,\n",
       " None,\n",
       " None,\n",
       " None,\n",
       " None,\n",
       " None,\n",
       " None,\n",
       " None,\n",
       " None,\n",
       " None,\n",
       " None,\n",
       " None,\n",
       " None,\n",
       " None,\n",
       " None,\n",
       " None,\n",
       " None,\n",
       " None,\n",
       " None,\n",
       " None,\n",
       " None,\n",
       " None,\n",
       " None,\n",
       " None,\n",
       " None,\n",
       " None,\n",
       " None,\n",
       " None,\n",
       " None,\n",
       " None,\n",
       " None,\n",
       " None,\n",
       " None,\n",
       " None,\n",
       " None,\n",
       " None,\n",
       " None,\n",
       " None,\n",
       " None,\n",
       " None,\n",
       " None,\n",
       " None,\n",
       " None,\n",
       " None,\n",
       " None,\n",
       " None,\n",
       " None,\n",
       " None,\n",
       " None,\n",
       " None,\n",
       " None,\n",
       " None,\n",
       " None,\n",
       " None,\n",
       " None,\n",
       " None,\n",
       " None,\n",
       " None,\n",
       " None,\n",
       " None,\n",
       " None,\n",
       " None,\n",
       " None,\n",
       " None,\n",
       " None,\n",
       " None,\n",
       " None,\n",
       " None,\n",
       " None,\n",
       " None,\n",
       " None,\n",
       " None,\n",
       " None,\n",
       " None,\n",
       " None,\n",
       " None,\n",
       " None,\n",
       " None,\n",
       " None,\n",
       " None,\n",
       " None,\n",
       " None,\n",
       " None,\n",
       " None,\n",
       " None,\n",
       " None,\n",
       " None,\n",
       " None,\n",
       " None,\n",
       " None,\n",
       " None,\n",
       " None,\n",
       " None,\n",
       " None,\n",
       " None,\n",
       " None,\n",
       " None,\n",
       " None,\n",
       " None,\n",
       " None,\n",
       " None,\n",
       " None,\n",
       " None,\n",
       " None,\n",
       " None,\n",
       " None,\n",
       " None,\n",
       " None,\n",
       " None,\n",
       " None,\n",
       " None,\n",
       " None,\n",
       " None,\n",
       " None,\n",
       " None,\n",
       " None,\n",
       " None,\n",
       " None,\n",
       " None,\n",
       " None,\n",
       " None,\n",
       " None,\n",
       " None,\n",
       " None,\n",
       " None,\n",
       " None,\n",
       " None,\n",
       " None,\n",
       " None,\n",
       " None,\n",
       " None,\n",
       " None,\n",
       " None,\n",
       " None,\n",
       " None,\n",
       " None,\n",
       " None,\n",
       " None,\n",
       " None,\n",
       " None,\n",
       " None,\n",
       " None,\n",
       " None,\n",
       " None,\n",
       " None,\n",
       " None,\n",
       " None,\n",
       " None,\n",
       " None,\n",
       " None,\n",
       " None,\n",
       " None,\n",
       " None,\n",
       " None,\n",
       " None,\n",
       " None,\n",
       " None,\n",
       " None,\n",
       " None,\n",
       " None,\n",
       " None,\n",
       " None,\n",
       " None,\n",
       " None,\n",
       " None,\n",
       " None,\n",
       " None,\n",
       " None,\n",
       " None,\n",
       " None,\n",
       " None,\n",
       " None,\n",
       " None,\n",
       " None,\n",
       " None,\n",
       " None,\n",
       " None,\n",
       " None,\n",
       " None,\n",
       " None,\n",
       " None,\n",
       " None,\n",
       " None,\n",
       " None,\n",
       " None,\n",
       " None,\n",
       " None,\n",
       " None,\n",
       " None,\n",
       " None,\n",
       " None,\n",
       " None,\n",
       " None,\n",
       " None,\n",
       " None,\n",
       " None,\n",
       " None,\n",
       " None,\n",
       " None,\n",
       " None,\n",
       " None,\n",
       " None,\n",
       " None,\n",
       " None,\n",
       " None,\n",
       " None,\n",
       " None,\n",
       " None,\n",
       " None,\n",
       " None,\n",
       " None,\n",
       " None,\n",
       " None,\n",
       " None,\n",
       " None,\n",
       " None,\n",
       " None,\n",
       " None,\n",
       " None,\n",
       " None,\n",
       " None,\n",
       " None,\n",
       " None,\n",
       " None,\n",
       " None,\n",
       " None,\n",
       " None,\n",
       " None,\n",
       " None,\n",
       " None,\n",
       " None,\n",
       " None,\n",
       " None,\n",
       " None,\n",
       " None,\n",
       " None,\n",
       " None,\n",
       " None,\n",
       " None,\n",
       " None,\n",
       " None,\n",
       " None,\n",
       " None,\n",
       " None,\n",
       " None,\n",
       " None,\n",
       " None,\n",
       " None,\n",
       " None,\n",
       " None,\n",
       " None,\n",
       " None,\n",
       " None,\n",
       " None,\n",
       " None,\n",
       " None,\n",
       " None,\n",
       " None,\n",
       " None,\n",
       " None,\n",
       " None,\n",
       " None,\n",
       " None,\n",
       " None,\n",
       " None,\n",
       " None,\n",
       " None,\n",
       " None,\n",
       " None,\n",
       " None,\n",
       " None,\n",
       " None,\n",
       " None,\n",
       " None,\n",
       " None,\n",
       " None,\n",
       " None,\n",
       " None,\n",
       " None,\n",
       " None,\n",
       " None,\n",
       " None,\n",
       " None,\n",
       " None,\n",
       " None,\n",
       " None,\n",
       " None,\n",
       " None,\n",
       " None,\n",
       " None,\n",
       " None,\n",
       " None,\n",
       " None,\n",
       " None,\n",
       " None,\n",
       " None,\n",
       " None,\n",
       " None,\n",
       " None,\n",
       " None,\n",
       " None,\n",
       " None,\n",
       " None,\n",
       " None,\n",
       " None,\n",
       " None,\n",
       " None,\n",
       " None,\n",
       " None,\n",
       " None,\n",
       " None,\n",
       " None,\n",
       " None,\n",
       " None,\n",
       " None,\n",
       " None,\n",
       " None,\n",
       " None,\n",
       " None,\n",
       " None,\n",
       " None,\n",
       " None,\n",
       " None,\n",
       " None,\n",
       " None,\n",
       " None,\n",
       " None,\n",
       " None,\n",
       " None,\n",
       " None,\n",
       " None,\n",
       " None,\n",
       " None,\n",
       " None,\n",
       " None,\n",
       " None,\n",
       " None,\n",
       " None,\n",
       " None,\n",
       " None,\n",
       " None,\n",
       " None,\n",
       " None,\n",
       " None,\n",
       " None,\n",
       " None]"
      ]
     },
     "execution_count": 160,
     "metadata": {},
     "output_type": "execute_result"
    }
   ],
   "source": [
    "num_samples=100\n",
    "sample_results = Parallel(n_jobs=-4)(delayed(generate_full_preferences)(i, \n",
    "                                                                        model_name, \n",
    "                                                                        model_dict[model_name],\n",
    "                                                                        program_attributes_test,\n",
    "                                                                        student_codex_test, \n",
    "                                                                        program_codex, \n",
    "                                                                        ctip_codex_test) \n",
    "                                     for i in range(num_samples) \n",
    "                                     for model_name in model_names)\n",
    "sampled_preferences = {key: [] for key in model_dict.keys()}\n",
    "[sampled_preferences[name].append(prefs) for name, prefs in sample_results]"
   ]
  },
  {
   "cell_type": "code",
   "execution_count": 163,
   "metadata": {},
   "outputs": [],
   "source": [
    "stacked_sampled_prefs = {}\n",
    "for key, value in sampled_preferences.items():\n",
    "    stacked_sampled_prefs[key]=np.dstack(value)"
   ]
  },
  {
   "cell_type": "code",
   "execution_count": 164,
   "metadata": {},
   "outputs": [],
   "source": [
    "sampled_preferences_rank = {key: [array.argsort(axis=1) for array in sampled_preferences[key]] for key in model_names}"
   ]
  },
  {
   "cell_type": "code",
   "execution_count": 165,
   "metadata": {},
   "outputs": [],
   "source": [
    "def kendall_tau_wrapper(model1, model2, array1, array2, num_rows):\n",
    "    rows_id = random.sample(range(array1.shape[0]), num_rows)\n",
    "    corr_list=[]\n",
    "    for row in rows_id:\n",
    "        corr_list.append(weightedtau(array1[row], array2[row])[0])\n",
    "    return model1, model2, corr_list"
   ]
  },
  {
   "cell_type": "code",
   "execution_count": 166,
   "metadata": {},
   "outputs": [
    {
     "name": "stderr",
     "output_type": "stream",
     "text": [
      "/usr/local/lib/python3.10/dist-packages/joblib/externals/loky/process_executor.py:702: UserWarning: A worker stopped while some jobs were given to the executor. This can be caused by a too short worker timeout or by a memory leak.\n",
      "  warnings.warn(\n"
     ]
    }
   ],
   "source": [
    "num_rows_to_sample = 1000\n",
    "result = Parallel(n_jobs=-4)(delayed(kendall_tau_wrapper)(model1, model2, sampled_preferences_rank[model1][k], sampled_preferences_rank[model2][k+1], num_rows_to_sample)\n",
    "                             for model1, model2 in itertools.combinations_with_replacement(sampled_preferences_rank.keys(), r=2)\n",
    "                             for k in range(num_samples-1))"
   ]
  },
  {
   "cell_type": "code",
   "execution_count": 188,
   "metadata": {},
   "outputs": [],
   "source": [
    "weighted_kt_df = pd.DataFrame(0, index=sampled_preferences_rank.keys(), columns=sampled_preferences_rank.keys())\n",
    "for model1, model2, corr_list in result:\n",
    "    total = np.array(corr_list).sum()\n",
    "    weighted_kt_df.loc[model2, model1] += total\n",
    "weighted_kt_matrix = (weighted_kt_df / (num_rows_to_sample * (num_samples-1))).values"
   ]
  },
  {
   "cell_type": "code",
   "execution_count": 229,
   "metadata": {},
   "outputs": [
    {
     "name": "stderr",
     "output_type": "stream",
     "text": [
      "/tmp/ipykernel_2964353/367540473.py:2: DeprecationWarning: `np.bool` is a deprecated alias for the builtin `bool`. To silence this warning, use `bool` by itself. Doing this will not modify any behavior and is safe. If you specifically wanted the numpy scalar type, use `np.bool_` here.\n",
      "Deprecated in NumPy 1.20; for more details and guidance: https://numpy.org/devdocs/release/1.20.0-notes.html#deprecations\n",
      "  mask = np.zeros_like(weighted_kt_matrix, dtype=np.bool)\n"
     ]
    },
    {
     "data": {
      "image/png": "[encoded data removed]",
      "text/plain": [
       "<Figure size 504x432 with 2 Axes>"
      ]
     },
     "metadata": {
      "needs_background": "light"
     },
     "output_type": "display_data"
    }
   ],
   "source": [
    "fig, ax = plt.subplots(1,1,figsize=(7,6))\n",
    "mask = np.zeros_like(weighted_kt_matrix, dtype=np.bool)\n",
    "mask[np.triu_indices_from(mask)] = True\n",
    "np.fill_diagonal(mask, False)\n",
    "sns.heatmap(weighted_kt_matrix, \n",
    "            xticklabels=['null', \n",
    "                         'fixed', 'strat fixed', \n",
    "                         'linear', 'strat linear',\n",
    "                         'CDM', 'strat CDM', \n",
    "                         'nested'], \n",
    "            yticklabels=['null', \n",
    "                         'fixed', 'strat fixed', \n",
    "                         'linear', 'strat linear',\n",
    "                         'CDM', 'strat CDM', \n",
    "                         'nested'], \n",
    "            mask=mask, \n",
    "            square=True,\n",
    "            annot=True,\n",
    "            fmt='.2f', ax=ax)\n",
    "fig.savefig('../Figs/correlations.pdf', format='pdf', bbox_inches='tight')"
   ]
  },
  {
   "cell_type": "markdown",
   "metadata": {
    "jp-MarkdownHeadingCollapsed": true,
    "tags": []
   },
   "source": [
    "## Consistency at $k$"
   ]
  },
  {
   "cell_type": "code",
   "execution_count": 190,
   "metadata": {},
   "outputs": [],
   "source": [
    "def consistency(rank, model_name, arr1, arr2):\n",
    "    inds = (arr1[:, rank]!=num_programs) & (arr2[:, rank]!=num_programs)\n",
    "    return rank, model_name, (arr1[inds,rank]==arr2[inds,rank]).mean(), sum(inds)\n",
    "consistency_results=Parallel(n_jobs=-4)(delayed(consistency)(rank, model_name, arr1, arr2)\n",
    "                                        for rank in range(10) \n",
    "                                        for model_name in model_names\n",
    "                                        for arr1, arr2 in itertools.combinations(results_sample[rank][model_name], r=2))\n",
    "consistencies=pd.DataFrame(consistency_results, columns=['rank position', 'model name', 'consistency', 'no. eligible ballots'])\n",
    "consistencies[['model', 'stratified']] = [[name.split()[-1], 'strat' in name] for name in consistencies['model name']]"
   ]
  },
  {
   "cell_type": "code",
   "execution_count": 230,
   "metadata": {
    "tags": []
   },
   "outputs": [
    {
     "data": {
      "image/png": "[encoded data removed]",
      "text/plain": [
       "<Figure size 432x288 with 1 Axes>"
      ]
     },
     "metadata": {
      "needs_background": "light"
     },
     "output_type": "display_data"
    }
   ],
   "source": [
    "custom_lines = [Line2D([0], [0], color=palette[0], linestyle='-', marker='o', lw=2),\n",
    "                Line2D([0], [0], color=palette[1], linestyle='--', marker='o', lw=2),\n",
    "                Line2D([0], [0], color=palette[1], linestyle='-', marker='o', lw=2),\n",
    "                Line2D([0], [0], color=palette[2], linestyle='--', marker='o', lw=2),\n",
    "                Line2D([0], [0], color=palette[2], linestyle='-', marker='o', lw=2),\n",
    "                Line2D([0], [0], color=palette[4], linestyle='-', marker='o', lw=2),\n",
    "                Line2D([0], [0], color=palette[3], linestyle='--', marker='o', lw=2),\n",
    "                Line2D([0], [0], color=palette[3], linestyle='-', marker='o', lw=2)]\n",
    "fig, ax=plt.subplots(1,1)\n",
    "sns.lineplot(data=consistencies, x='rank position', y='consistency', hue='model', style='stratified', \n",
    "             palette=palette, marker='o', ax=ax)\n",
    "ax.set_xticks(np.arange(10), np.arange(10)+1)\n",
    "ax.set_ylabel('Consistency')\n",
    "ax.set_xlabel(r'Position, $k$')\n",
    "ax.legend(custom_lines, ['null', \n",
    "                         'fixed', 'fixed, strat.', \n",
    "                         'linear', 'linear, strat.', \n",
    "                         'nested',\n",
    "                         'CDM', 'CDM, strat.'], loc='upper right')\n",
    "fig.savefig('../Figs/consistencies.pdf', format='pdf', bbox_inches='tight')"
   ]
  },
  {
   "cell_type": "code",
   "execution_count": null,
   "metadata": {},
   "outputs": [],
   "source": []
  }
 ],
 "metadata": {
  "kernelspec": {
   "display_name": "Python 3 (ipykernel)",
   "language": "python",
   "name": "python3"
  },
  "language_info": {
   "codemirror_mode": {
    "name": "ipython",
    "version": 3
   },
   "file_extension": ".py",
   "mimetype": "text/x-python",
   "name": "python",
   "nbconvert_exporter": "python",
   "pygments_lexer": "ipython3",
   "version": "3.10.6"
  }
 },
 "nbformat": 4,
 "nbformat_minor": 4
}
